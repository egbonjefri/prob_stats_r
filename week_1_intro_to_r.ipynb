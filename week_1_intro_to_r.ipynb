{
 "cells": [
  {
   "cell_type": "markdown",
   "metadata": {},
   "source": [
    "# Introduction to R and RStudio\n",
    "### Statistics with R\n",
    "#### Duke University (Coursera)"
   ]
  },
  {
   "cell_type": "markdown",
   "metadata": {},
   "source": [
    "Complete all **Exercises**, and submit answers to **Questions** on the\n",
    "Coursera platform.\n"
   ]
  },
  {
   "cell_type": "markdown",
   "metadata": {},
   "source": [
    "The goal of this lab is to introduce you to R and RStudio, which you'll\n",
    "be using throughout the course both to learn the statistical concepts\n",
    "discussed in the course and to analyze real data and come to informed\n",
    "conclusions. To straighten out which is which: R is the name of the\n",
    "programming language itself and RStudio is a convenient interface.\n",
    "\n",
    "As the labs progress, you are encouraged to explore beyond what the labs\n",
    "dictate; a willingness to experiment will make you a much better\n",
    "programmer. Before we get to that stage, however, you need to build some\n",
    "basic fluency in R. Today we begin with the fundamental building blocks\n",
    "of R and RStudio: the interface, reading in data, and basic commands.\n",
    "\n",
    "## RStudio\n",
    "\n",
    "Your RStudio window has four panels.\n",
    "\n",
    "Your R Markdown file (this document) is in the upper left panel.\n",
    "\n",
    "The panel on the lower left is where the action happens. It's called the\n",
    "*console*. Everytime you launch RStudio, it will have the same text at\n",
    "the top of the console telling you the version of R that you're running.\n",
    "To clear the console, use a shortcut key \"Ctrl+L\". Below that\n",
    "information is the *prompt*. As its name suggests, this prompt is really\n",
    "a request, a request for a command. Initially, interacting with R is all\n",
    "about typing commands and interpreting the output. These commands and\n",
    "their syntax have evolved over decades (literally) and now provide what\n",
    "many users feel is a fairly natural way to access data and organize,\n",
    "describe, and invoke statistical computations.\n",
    "\n",
    "The panel in the upper right contains your *workspace* as well as a\n",
    "history of the commands that you've previously entered.\n",
    "\n",
    "Any plots that you generate will show up in the panel in the lower right\n",
    "corner. This is also where you can browse your files, access help,\n",
    "manage packages, etc.\n",
    "\n",
    "## R Packages\n",
    "\n",
    "R is an open-source programming language, meaning that users can\n",
    "contribute packages that make our lives easier, and we can use them for\n",
    "free. For this lab, and many others in the future, we will use the\n",
    "following R packages:\n",
    "\n",
    "-   `statsr`: for data files and functions used in this course\n",
    "-   `dplyr`: for data wrangling\n",
    "-   `ggplot2`: for data visualization\n",
    "\n",
    "You should have already installed these packages using commands like\n",
    "`install.packages` and `install_github`.\n",
    "\n",
    "Next, you need to load the packages in your working environment. We do\n",
    "this with the `library` function. Note that you only need to **install**\n",
    "packages once, but you need to **load** them each time you relaunch\n",
    "RStudio."
   ]
  },
  {
   "cell_type": "code",
   "execution_count": null,
   "metadata": {
    "vscode": {
     "languageId": "r"
    }
   },
   "outputs": [],
   "source": [
    "library(dplyr)\n",
    "library(ggplot2)\n",
    "library(statsr)"
   ]
  },
  {
   "cell_type": "markdown",
   "metadata": {},
   "source": [
    "To do so, you can\n",
    "\n",
    "-   click on the green arrow at the top of the code chunk in the R\n",
    "    Markdown (Rmd) file, or\n",
    "-   highlight these lines, and hit the **Run** button on the upper right\n",
    "    corner of the pane, or\n",
    "-   type the code in the console.\n",
    "\n",
    "Going forward you will be asked to load any relevant packages at the\n",
    "beginning of each lab.\n",
    "\n",
    "## Dataset 1: Dr. Arbuthnot's Baptism Records\n",
    "\n",
    "To get you started, run the following command to load the data."
   ]
  },
  {
   "cell_type": "code",
   "execution_count": 2,
   "metadata": {
    "vscode": {
     "languageId": "r"
    }
   },
   "outputs": [],
   "source": [
    "data(arbuthnot)"
   ]
  },
  {
   "cell_type": "markdown",
   "metadata": {},
   "source": [
    "To do so, once again, you can\n",
    "\n",
    "-   click on the green arrow at the top of the code chunk in the R\n",
    "    Markdown (Rmd) file, or\n",
    "-   put your cursor on this line, and hit the **Run** button on the\n",
    "    upper right corner of the pane, or\n",
    "-   type the code in the console.\n",
    "\n",
    "This command instructs R to load some data. The Arbuthnot baptism counts\n",
    "for boys and girls. You should see that the workspace area in the upper\n",
    "righthand corner of the RStudio window now lists a data set called\n",
    "`arbuthnot` that has 82 observations on 3 variables. As you interact\n",
    "with R, you will create a series of objects. Sometimes you load them as\n",
    "we have done here, and sometimes you create them yourself as the\n",
    "byproduct of a computation or some analysis you have performed.\n",
    "\n",
    "The Arbuthnot data set refers to Dr. John Arbuthnot, an 18<sup>th</sup>\n",
    "century physician, writer, and mathematician. He was interested in the\n",
    "ratio of newborn boys to newborn girls, so he gathered the baptism\n",
    "records for children born in London for every year from 1629 to 1710. We\n",
    "can take a look at the data by typing its name into the console."
   ]
  },
  {
   "cell_type": "code",
   "execution_count": 3,
   "metadata": {
    "vscode": {
     "languageId": "r"
    }
   },
   "outputs": [
    {
     "data": {
      "text/html": [
       "<table class=\"dataframe\">\n",
       "<caption>A tibble: 5 × 3</caption>\n",
       "<thead>\n",
       "\t<tr><th scope=col>year</th><th scope=col>boys</th><th scope=col>girls</th></tr>\n",
       "\t<tr><th scope=col>&lt;int&gt;</th><th scope=col>&lt;int&gt;</th><th scope=col>&lt;int&gt;</th></tr>\n",
       "</thead>\n",
       "<tbody>\n",
       "\t<tr><td>1710</td><td>7640</td><td>7288</td></tr>\n",
       "\t<tr><td>1709</td><td>7840</td><td>7380</td></tr>\n",
       "\t<tr><td>1708</td><td>8239</td><td>7623</td></tr>\n",
       "\t<tr><td>1707</td><td>8379</td><td>7687</td></tr>\n",
       "\t<tr><td>1706</td><td>7952</td><td>7417</td></tr>\n",
       "</tbody>\n",
       "</table>\n"
      ],
      "text/latex": [
       "A tibble: 5 × 3\n",
       "\\begin{tabular}{lll}\n",
       " year & boys & girls\\\\\n",
       " <int> & <int> & <int>\\\\\n",
       "\\hline\n",
       "\t 1710 & 7640 & 7288\\\\\n",
       "\t 1709 & 7840 & 7380\\\\\n",
       "\t 1708 & 8239 & 7623\\\\\n",
       "\t 1707 & 8379 & 7687\\\\\n",
       "\t 1706 & 7952 & 7417\\\\\n",
       "\\end{tabular}\n"
      ],
      "text/markdown": [
       "\n",
       "A tibble: 5 × 3\n",
       "\n",
       "| year &lt;int&gt; | boys &lt;int&gt; | girls &lt;int&gt; |\n",
       "|---|---|---|\n",
       "| 1710 | 7640 | 7288 |\n",
       "| 1709 | 7840 | 7380 |\n",
       "| 1708 | 8239 | 7623 |\n",
       "| 1707 | 8379 | 7687 |\n",
       "| 1706 | 7952 | 7417 |\n",
       "\n"
      ],
      "text/plain": [
       "  year boys girls\n",
       "1 1710 7640 7288 \n",
       "2 1709 7840 7380 \n",
       "3 1708 8239 7623 \n",
       "4 1707 8379 7687 \n",
       "5 1706 7952 7417 "
      ]
     },
     "metadata": {},
     "output_type": "display_data"
    }
   ],
   "source": [
    "arbuthnot %>%\n",
    "arrange(desc(year))%>%\n",
    "  head(5) "
   ]
  },
  {
   "cell_type": "markdown",
   "metadata": {},
   "source": [
    "However printing the whole dataset in the console is not that useful.\n",
    "One advantage of RStudio is that it comes with a built-in data viewer.\n",
    "Click on the name `arbuthnot` in the *Environment* pane (upper right\n",
    "window) that lists the objects in your workspace. This will bring up an\n",
    "alternative display of the data set in the *Data Viewer* (upper left\n",
    "window). You can close the data viewer by clicking on the *x* in the\n",
    "upper lefthand corner.\n",
    "\n",
    "What you should see are four columns of numbers, each row representing a\n",
    "different year: the first entry in each row is simply the row number (an\n",
    "index we can use to access the data from individual years if we want),\n",
    "the second is the year, and the third and fourth are the numbers of boys\n",
    "and girls baptized that year, respectively. Use the scrollbar on the\n",
    "right side of the console window to examine the complete data set.\n",
    "\n",
    "Note that the row numbers in the first column are not part of\n",
    "Arbuthnot's data. R adds them as part of its printout to help you make\n",
    "visual comparisons. You can think of them as the index that you see on\n",
    "the left side of a spreadsheet. In fact, the comparison to a spreadsheet\n",
    "will generally be helpful. R has stored Arbuthnot's data in a kind of\n",
    "spreadsheet or table called a *data frame*.\n",
    "\n",
    "You can see the dimensions of this data frame by typing:"
   ]
  },
  {
   "cell_type": "code",
   "execution_count": 4,
   "metadata": {
    "vscode": {
     "languageId": "r"
    }
   },
   "outputs": [
    {
     "data": {
      "text/html": [
       "<style>\n",
       ".list-inline {list-style: none; margin:0; padding: 0}\n",
       ".list-inline>li {display: inline-block}\n",
       ".list-inline>li:not(:last-child)::after {content: \"\\00b7\"; padding: 0 .5ex}\n",
       "</style>\n",
       "<ol class=list-inline><li>82</li><li>3</li></ol>\n"
      ],
      "text/latex": [
       "\\begin{enumerate*}\n",
       "\\item 82\n",
       "\\item 3\n",
       "\\end{enumerate*}\n"
      ],
      "text/markdown": [
       "1. 82\n",
       "2. 3\n",
       "\n",
       "\n"
      ],
      "text/plain": [
       "[1] 82  3"
      ]
     },
     "metadata": {},
     "output_type": "display_data"
    }
   ],
   "source": [
    "dim(arbuthnot)"
   ]
  },
  {
   "cell_type": "markdown",
   "metadata": {},
   "source": [
    "This command should output `[1] 82 3`, indicating that there are 82 rows\n",
    "and 3 columns (we'll get to what the `[1]` means in a bit), just as it\n",
    "says next to the object in your workspace. You can see the names of\n",
    "these columns (or variables) by typing:"
   ]
  },
  {
   "cell_type": "code",
   "execution_count": 5,
   "metadata": {
    "vscode": {
     "languageId": "r"
    }
   },
   "outputs": [
    {
     "data": {
      "text/html": [
       "<style>\n",
       ".list-inline {list-style: none; margin:0; padding: 0}\n",
       ".list-inline>li {display: inline-block}\n",
       ".list-inline>li:not(:last-child)::after {content: \"\\00b7\"; padding: 0 .5ex}\n",
       "</style>\n",
       "<ol class=list-inline><li>'year'</li><li>'boys'</li><li>'girls'</li></ol>\n"
      ],
      "text/latex": [
       "\\begin{enumerate*}\n",
       "\\item 'year'\n",
       "\\item 'boys'\n",
       "\\item 'girls'\n",
       "\\end{enumerate*}\n"
      ],
      "text/markdown": [
       "1. 'year'\n",
       "2. 'boys'\n",
       "3. 'girls'\n",
       "\n",
       "\n"
      ],
      "text/plain": [
       "[1] \"year\"  \"boys\"  \"girls\""
      ]
     },
     "metadata": {},
     "output_type": "display_data"
    }
   ],
   "source": [
    "names(arbuthnot)"
   ]
  },
  {
   "cell_type": "markdown",
   "metadata": {},
   "source": [
    "1.  How many variables are included in this data set?\n",
    "\n",
    "    <ol>\n",
    "\n",
    "    <li>2</li>\n",
    "\n",
    "    <li style=\"color: green;\">3</li>\n",
    "\n",
    "    <li>4</li>\n",
    "\n",
    "    <li>82</li>\n",
    "\n",
    "    <li>1710</li>\n",
    "\n",
    "    </ol>"
   ]
  },
  {
   "cell_type": "markdown",
   "metadata": {},
   "source": [
    "**Exercise**: What years are included in this dataset? Hint: Take a look\n",
    "at the year variable in the Data Viewer to answer this question."
   ]
  },
  {
   "cell_type": "code",
   "execution_count": 6,
   "metadata": {
    "vscode": {
     "languageId": "r"
    }
   },
   "outputs": [
    {
     "data": {
      "text/html": [
       "<style>\n",
       ".list-inline {list-style: none; margin:0; padding: 0}\n",
       ".list-inline>li {display: inline-block}\n",
       ".list-inline>li:not(:last-child)::after {content: \"\\00b7\"; padding: 0 .5ex}\n",
       "</style>\n",
       "<ol class=list-inline><li>1629</li><li>1710</li></ol>\n"
      ],
      "text/latex": [
       "\\begin{enumerate*}\n",
       "\\item 1629\n",
       "\\item 1710\n",
       "\\end{enumerate*}\n"
      ],
      "text/markdown": [
       "1. 1629\n",
       "2. 1710\n",
       "\n",
       "\n"
      ],
      "text/plain": [
       "[1] 1629 1710"
      ]
     },
     "metadata": {},
     "output_type": "display_data"
    }
   ],
   "source": [
    "range(arbuthnot$year)"
   ]
  },
  {
   "cell_type": "markdown",
   "metadata": {},
   "source": [
    "You should see that the data frame contains the columns `year`, `boys`,\n",
    "and `girls`. At this point, you might notice that many of the commands\n",
    "in R look a lot like functions from math class; that is, invoking R\n",
    "commands means supplying a function with some number of arguments. The\n",
    "`dim` and `names` commands, for example, each took a single argument,\n",
    "the name of a data frame."
   ]
  },
  {
   "cell_type": "markdown",
   "metadata": {},
   "source": [
    "**Tip:** If you use the up and down arrow keys, you can scroll through\n",
    "your previous commands, your so-called command history. You can also\n",
    "access it by clicking on the history tab in the upper right panel. This\n",
    "will save you a lot of typing in the future."
   ]
  },
  {
   "cell_type": "markdown",
   "metadata": {},
   "source": [
    "### R Markdown\n",
    "\n",
    "So far we asked you to type your commands in the console. The console is\n",
    "a great place for playing around with some code, however it is not a\n",
    "good place for documenting your work. Working in the console exclusively\n",
    "makes it difficult to document your work as you go, and reproduce it\n",
    "later.\n",
    "\n",
    "R Markdown is a great solution for this problem. And, you already have\n",
    "worked with an R Markdown document -- this lab! Going forward type the\n",
    "code for the questions in the code chunks provided in the R Markdown\n",
    "(Rmd) document for the lab, and **Knit** the document to see the\n",
    "results.\n",
    "\n",
    "### Some Exploration\n",
    "\n",
    "Let's start to examine the data a little more closely. We can access the\n",
    "data in a single column of a data frame separately using a command like"
   ]
  },
  {
   "cell_type": "code",
   "execution_count": 7,
   "metadata": {
    "vscode": {
     "languageId": "r"
    }
   },
   "outputs": [
    {
     "data": {
      "text/html": [
       "<style>\n",
       ".list-inline {list-style: none; margin:0; padding: 0}\n",
       ".list-inline>li {display: inline-block}\n",
       ".list-inline>li:not(:last-child)::after {content: \"\\00b7\"; padding: 0 .5ex}\n",
       "</style>\n",
       "<ol class=list-inline><li>5218</li><li>4858</li><li>4422</li><li>4994</li><li>5158</li><li>5035</li><li>5106</li><li>4917</li><li>4703</li><li>5359</li><li>5366</li><li>5518</li><li>5470</li><li>5460</li><li>4793</li><li>4107</li><li>4047</li><li>3768</li><li>3796</li><li>3363</li><li>3079</li><li>2890</li><li>3231</li><li>3220</li><li>3196</li><li>3441</li><li>3655</li><li>3668</li><li>3396</li><li>3157</li><li>3209</li><li>3724</li><li>4748</li><li>5216</li><li>5411</li><li>6041</li><li>5114</li><li>4678</li><li>5616</li><li>6073</li><li>6506</li><li>6278</li><li>6449</li><li>6443</li><li>6073</li><li>6113</li><li>6058</li><li>6552</li><li>6423</li><li>6568</li><li>6247</li><li>6548</li><li>6822</li><li>6909</li><li>7577</li><li>7575</li><li>7484</li><li>7575</li><li>7737</li><li>7487</li><li>7604</li><li>7909</li><li>7662</li><li>7602</li><li>7676</li><li>6985</li><li>7263</li><li>7632</li><li>8062</li><li>8426</li><li>7911</li><li>7578</li><li>8102</li><li>8031</li><li>7765</li><li>6113</li><li>8366</li><li>7952</li><li>8379</li><li>8239</li><li>7840</li><li>7640</li></ol>\n"
      ],
      "text/latex": [
       "\\begin{enumerate*}\n",
       "\\item 5218\n",
       "\\item 4858\n",
       "\\item 4422\n",
       "\\item 4994\n",
       "\\item 5158\n",
       "\\item 5035\n",
       "\\item 5106\n",
       "\\item 4917\n",
       "\\item 4703\n",
       "\\item 5359\n",
       "\\item 5366\n",
       "\\item 5518\n",
       "\\item 5470\n",
       "\\item 5460\n",
       "\\item 4793\n",
       "\\item 4107\n",
       "\\item 4047\n",
       "\\item 3768\n",
       "\\item 3796\n",
       "\\item 3363\n",
       "\\item 3079\n",
       "\\item 2890\n",
       "\\item 3231\n",
       "\\item 3220\n",
       "\\item 3196\n",
       "\\item 3441\n",
       "\\item 3655\n",
       "\\item 3668\n",
       "\\item 3396\n",
       "\\item 3157\n",
       "\\item 3209\n",
       "\\item 3724\n",
       "\\item 4748\n",
       "\\item 5216\n",
       "\\item 5411\n",
       "\\item 6041\n",
       "\\item 5114\n",
       "\\item 4678\n",
       "\\item 5616\n",
       "\\item 6073\n",
       "\\item 6506\n",
       "\\item 6278\n",
       "\\item 6449\n",
       "\\item 6443\n",
       "\\item 6073\n",
       "\\item 6113\n",
       "\\item 6058\n",
       "\\item 6552\n",
       "\\item 6423\n",
       "\\item 6568\n",
       "\\item 6247\n",
       "\\item 6548\n",
       "\\item 6822\n",
       "\\item 6909\n",
       "\\item 7577\n",
       "\\item 7575\n",
       "\\item 7484\n",
       "\\item 7575\n",
       "\\item 7737\n",
       "\\item 7487\n",
       "\\item 7604\n",
       "\\item 7909\n",
       "\\item 7662\n",
       "\\item 7602\n",
       "\\item 7676\n",
       "\\item 6985\n",
       "\\item 7263\n",
       "\\item 7632\n",
       "\\item 8062\n",
       "\\item 8426\n",
       "\\item 7911\n",
       "\\item 7578\n",
       "\\item 8102\n",
       "\\item 8031\n",
       "\\item 7765\n",
       "\\item 6113\n",
       "\\item 8366\n",
       "\\item 7952\n",
       "\\item 8379\n",
       "\\item 8239\n",
       "\\item 7840\n",
       "\\item 7640\n",
       "\\end{enumerate*}\n"
      ],
      "text/markdown": [
       "1. 5218\n",
       "2. 4858\n",
       "3. 4422\n",
       "4. 4994\n",
       "5. 5158\n",
       "6. 5035\n",
       "7. 5106\n",
       "8. 4917\n",
       "9. 4703\n",
       "10. 5359\n",
       "11. 5366\n",
       "12. 5518\n",
       "13. 5470\n",
       "14. 5460\n",
       "15. 4793\n",
       "16. 4107\n",
       "17. 4047\n",
       "18. 3768\n",
       "19. 3796\n",
       "20. 3363\n",
       "21. 3079\n",
       "22. 2890\n",
       "23. 3231\n",
       "24. 3220\n",
       "25. 3196\n",
       "26. 3441\n",
       "27. 3655\n",
       "28. 3668\n",
       "29. 3396\n",
       "30. 3157\n",
       "31. 3209\n",
       "32. 3724\n",
       "33. 4748\n",
       "34. 5216\n",
       "35. 5411\n",
       "36. 6041\n",
       "37. 5114\n",
       "38. 4678\n",
       "39. 5616\n",
       "40. 6073\n",
       "41. 6506\n",
       "42. 6278\n",
       "43. 6449\n",
       "44. 6443\n",
       "45. 6073\n",
       "46. 6113\n",
       "47. 6058\n",
       "48. 6552\n",
       "49. 6423\n",
       "50. 6568\n",
       "51. 6247\n",
       "52. 6548\n",
       "53. 6822\n",
       "54. 6909\n",
       "55. 7577\n",
       "56. 7575\n",
       "57. 7484\n",
       "58. 7575\n",
       "59. 7737\n",
       "60. 7487\n",
       "61. 7604\n",
       "62. 7909\n",
       "63. 7662\n",
       "64. 7602\n",
       "65. 7676\n",
       "66. 6985\n",
       "67. 7263\n",
       "68. 7632\n",
       "69. 8062\n",
       "70. 8426\n",
       "71. 7911\n",
       "72. 7578\n",
       "73. 8102\n",
       "74. 8031\n",
       "75. 7765\n",
       "76. 6113\n",
       "77. 8366\n",
       "78. 7952\n",
       "79. 8379\n",
       "80. 8239\n",
       "81. 7840\n",
       "82. 7640\n",
       "\n",
       "\n"
      ],
      "text/plain": [
       " [1] 5218 4858 4422 4994 5158 5035 5106 4917 4703 5359 5366 5518 5470 5460 4793\n",
       "[16] 4107 4047 3768 3796 3363 3079 2890 3231 3220 3196 3441 3655 3668 3396 3157\n",
       "[31] 3209 3724 4748 5216 5411 6041 5114 4678 5616 6073 6506 6278 6449 6443 6073\n",
       "[46] 6113 6058 6552 6423 6568 6247 6548 6822 6909 7577 7575 7484 7575 7737 7487\n",
       "[61] 7604 7909 7662 7602 7676 6985 7263 7632 8062 8426 7911 7578 8102 8031 7765\n",
       "[76] 6113 8366 7952 8379 8239 7840 7640"
      ]
     },
     "metadata": {},
     "output_type": "display_data"
    }
   ],
   "source": [
    "arbuthnot$boys"
   ]
  },
  {
   "cell_type": "markdown",
   "metadata": {},
   "source": [
    "This command will only show the number of boys baptized each year. The\n",
    "dollar sign basically says \"go to the data frame that comes before me,\n",
    "and find the variable that comes after me\"."
   ]
  },
  {
   "cell_type": "markdown",
   "metadata": {},
   "source": [
    "2.  What command would you use to extract just the counts of girls born?\n",
    "\n",
    "    <ol>\n",
    "\n",
    "    <li>`arbuthnot$boys`</li>\n",
    "\n",
    "    <li style=\"color: green;\">`arbuthnot$girls`</li>\n",
    "\n",
    "    <li>`girls`</li>\n",
    "\n",
    "    <li>`arbuthnot[girls]`</li>\n",
    "\n",
    "    <li>`$girls`</li>\n",
    "\n",
    "    </ol>"
   ]
  },
  {
   "cell_type": "code",
   "execution_count": 8,
   "metadata": {
    "vscode": {
     "languageId": "r"
    }
   },
   "outputs": [
    {
     "data": {
      "text/html": [
       "<style>\n",
       ".list-inline {list-style: none; margin:0; padding: 0}\n",
       ".list-inline>li {display: inline-block}\n",
       ".list-inline>li:not(:last-child)::after {content: \"\\00b7\"; padding: 0 .5ex}\n",
       "</style>\n",
       "<ol class=list-inline><li>4683</li><li>4457</li><li>4102</li><li>4590</li><li>4839</li><li>4820</li><li>4928</li><li>4605</li><li>4457</li><li>4952</li><li>4784</li><li>5332</li><li>5200</li><li>4910</li><li>4617</li><li>3997</li><li>3919</li><li>3395</li><li>3536</li><li>3181</li><li>2746</li><li>2722</li><li>2840</li><li>2908</li><li>2959</li><li>3179</li><li>3349</li><li>3382</li><li>3289</li><li>3013</li><li>2781</li><li>3247</li><li>4107</li><li>4803</li><li>4881</li><li>5681</li><li>4858</li><li>4319</li><li>5322</li><li>5560</li><li>5829</li><li>5719</li><li>6061</li><li>6120</li><li>5822</li><li>5738</li><li>5717</li><li>5847</li><li>6203</li><li>6033</li><li>6041</li><li>6299</li><li>6533</li><li>6744</li><li>7158</li><li>7127</li><li>7246</li><li>7119</li><li>7214</li><li>7101</li><li>7167</li><li>7302</li><li>7392</li><li>7316</li><li>7483</li><li>6647</li><li>6713</li><li>7229</li><li>7767</li><li>7626</li><li>7452</li><li>7061</li><li>7514</li><li>7656</li><li>7683</li><li>5738</li><li>7779</li><li>7417</li><li>7687</li><li>7623</li><li>7380</li><li>7288</li></ol>\n"
      ],
      "text/latex": [
       "\\begin{enumerate*}\n",
       "\\item 4683\n",
       "\\item 4457\n",
       "\\item 4102\n",
       "\\item 4590\n",
       "\\item 4839\n",
       "\\item 4820\n",
       "\\item 4928\n",
       "\\item 4605\n",
       "\\item 4457\n",
       "\\item 4952\n",
       "\\item 4784\n",
       "\\item 5332\n",
       "\\item 5200\n",
       "\\item 4910\n",
       "\\item 4617\n",
       "\\item 3997\n",
       "\\item 3919\n",
       "\\item 3395\n",
       "\\item 3536\n",
       "\\item 3181\n",
       "\\item 2746\n",
       "\\item 2722\n",
       "\\item 2840\n",
       "\\item 2908\n",
       "\\item 2959\n",
       "\\item 3179\n",
       "\\item 3349\n",
       "\\item 3382\n",
       "\\item 3289\n",
       "\\item 3013\n",
       "\\item 2781\n",
       "\\item 3247\n",
       "\\item 4107\n",
       "\\item 4803\n",
       "\\item 4881\n",
       "\\item 5681\n",
       "\\item 4858\n",
       "\\item 4319\n",
       "\\item 5322\n",
       "\\item 5560\n",
       "\\item 5829\n",
       "\\item 5719\n",
       "\\item 6061\n",
       "\\item 6120\n",
       "\\item 5822\n",
       "\\item 5738\n",
       "\\item 5717\n",
       "\\item 5847\n",
       "\\item 6203\n",
       "\\item 6033\n",
       "\\item 6041\n",
       "\\item 6299\n",
       "\\item 6533\n",
       "\\item 6744\n",
       "\\item 7158\n",
       "\\item 7127\n",
       "\\item 7246\n",
       "\\item 7119\n",
       "\\item 7214\n",
       "\\item 7101\n",
       "\\item 7167\n",
       "\\item 7302\n",
       "\\item 7392\n",
       "\\item 7316\n",
       "\\item 7483\n",
       "\\item 6647\n",
       "\\item 6713\n",
       "\\item 7229\n",
       "\\item 7767\n",
       "\\item 7626\n",
       "\\item 7452\n",
       "\\item 7061\n",
       "\\item 7514\n",
       "\\item 7656\n",
       "\\item 7683\n",
       "\\item 5738\n",
       "\\item 7779\n",
       "\\item 7417\n",
       "\\item 7687\n",
       "\\item 7623\n",
       "\\item 7380\n",
       "\\item 7288\n",
       "\\end{enumerate*}\n"
      ],
      "text/markdown": [
       "1. 4683\n",
       "2. 4457\n",
       "3. 4102\n",
       "4. 4590\n",
       "5. 4839\n",
       "6. 4820\n",
       "7. 4928\n",
       "8. 4605\n",
       "9. 4457\n",
       "10. 4952\n",
       "11. 4784\n",
       "12. 5332\n",
       "13. 5200\n",
       "14. 4910\n",
       "15. 4617\n",
       "16. 3997\n",
       "17. 3919\n",
       "18. 3395\n",
       "19. 3536\n",
       "20. 3181\n",
       "21. 2746\n",
       "22. 2722\n",
       "23. 2840\n",
       "24. 2908\n",
       "25. 2959\n",
       "26. 3179\n",
       "27. 3349\n",
       "28. 3382\n",
       "29. 3289\n",
       "30. 3013\n",
       "31. 2781\n",
       "32. 3247\n",
       "33. 4107\n",
       "34. 4803\n",
       "35. 4881\n",
       "36. 5681\n",
       "37. 4858\n",
       "38. 4319\n",
       "39. 5322\n",
       "40. 5560\n",
       "41. 5829\n",
       "42. 5719\n",
       "43. 6061\n",
       "44. 6120\n",
       "45. 5822\n",
       "46. 5738\n",
       "47. 5717\n",
       "48. 5847\n",
       "49. 6203\n",
       "50. 6033\n",
       "51. 6041\n",
       "52. 6299\n",
       "53. 6533\n",
       "54. 6744\n",
       "55. 7158\n",
       "56. 7127\n",
       "57. 7246\n",
       "58. 7119\n",
       "59. 7214\n",
       "60. 7101\n",
       "61. 7167\n",
       "62. 7302\n",
       "63. 7392\n",
       "64. 7316\n",
       "65. 7483\n",
       "66. 6647\n",
       "67. 6713\n",
       "68. 7229\n",
       "69. 7767\n",
       "70. 7626\n",
       "71. 7452\n",
       "72. 7061\n",
       "73. 7514\n",
       "74. 7656\n",
       "75. 7683\n",
       "76. 5738\n",
       "77. 7779\n",
       "78. 7417\n",
       "79. 7687\n",
       "80. 7623\n",
       "81. 7380\n",
       "82. 7288\n",
       "\n",
       "\n"
      ],
      "text/plain": [
       " [1] 4683 4457 4102 4590 4839 4820 4928 4605 4457 4952 4784 5332 5200 4910 4617\n",
       "[16] 3997 3919 3395 3536 3181 2746 2722 2840 2908 2959 3179 3349 3382 3289 3013\n",
       "[31] 2781 3247 4107 4803 4881 5681 4858 4319 5322 5560 5829 5719 6061 6120 5822\n",
       "[46] 5738 5717 5847 6203 6033 6041 6299 6533 6744 7158 7127 7246 7119 7214 7101\n",
       "[61] 7167 7302 7392 7316 7483 6647 6713 7229 7767 7626 7452 7061 7514 7656 7683\n",
       "[76] 5738 7779 7417 7687 7623 7380 7288"
      ]
     },
     "metadata": {},
     "output_type": "display_data"
    }
   ],
   "source": [
    "arbuthnot$girls"
   ]
  },
  {
   "cell_type": "markdown",
   "metadata": {},
   "source": [
    "Notice that the way R has printed these data is different. When we\n",
    "looked at the complete data frame, we saw 82 rows, one on each line of\n",
    "the display. These data are no longer structured in a table with other\n",
    "variables, so they are displayed one right after another. Objects that\n",
    "print out in this way are called vectors; they represent a set of\n",
    "numbers. R has added numbers in [brackets] along the left side of the\n",
    "printout to indicate locations within the vector. For example, in the\n",
    "`arbuthnot$boys` vector, 5218 follows [1], indicating that 5218 is the\n",
    "first entry in the vector. And if [43] starts a line, then that would\n",
    "mean the first number on that line would represent the 43rd entry in the\n",
    "vector.\n",
    "\n",
    "R has some powerful functions for making graphics. We can create a\n",
    "simple plot of the number of girls baptized per year with the command"
   ]
  },
  {
   "cell_type": "code",
   "execution_count": 9,
   "metadata": {
    "vscode": {
     "languageId": "r"
    }
   },
   "outputs": [
    {
     "data": {
      "image/png": "[encoded data removed]",
      "text/plain": [
       "plot without title"
      ]
     },
     "metadata": {
      "image/png": {
       "height": 420,
       "width": 420
      }
     },
     "output_type": "display_data"
    }
   ],
   "source": [
    "ggplot(data = arbuthnot, aes(x = year, y = girls)) +\n",
    "  geom_point()"
   ]
  },
  {
   "cell_type": "markdown",
   "metadata": {},
   "source": [
    "Before we review the code for this plot, let's summarize the trends we\n",
    "see in the data.\n",
    "\n",
    "1.  Which of the following best describes the number of girls baptised\n",
    "    over the years included in this dataset?\n",
    "\n",
    "    <ol>\n",
    "\n",
    "    <li>There appears to be no trend in the number of girls baptised\n",
    "    from 1629 to 1710.</li>\n",
    "\n",
    "    <li style=\"color: green;\">There is initially an increase in the number of girls baptised,\n",
    "    which peaks around 1640. After 1640 there is a decrease in the\n",
    "    number of girls baptised, but the number begins to increase again\n",
    "    in 1660. Overall the trend is an increase in the number of girls\n",
    "    baptised.</li>\n",
    "\n",
    "    <li>There is initially an increase in the number of girls baptised.\n",
    "    This number peaks around 1640 and then after 1640 the number of\n",
    "    girls baptised decreases.</li>\n",
    "\n",
    "    <li>The number of girls baptised has decreased over time.</li>\n",
    "\n",
    "    <li>There is an initial increase in the number of girls baptised but\n",
    "    this number appears to level around 1680 and not change after that\n",
    "    time point.</li>\n",
    "\n",
    "    </ol>\n",
    "\n",
    "Back to the code... We use the `ggplot()` function to build plots. If\n",
    "you run the plotting code in your console, you should see the plot\n",
    "appear under the *Plots* tab of the lower right panel of RStudio. Notice\n",
    "that the command above again looks like a function, this time with\n",
    "arguments separated by commas.\n",
    "\n",
    "-   The first argument is always the dataset.\n",
    "-   Next, we provide the variables from the dataset to be assigned to\n",
    "    `aes`thetic elements of the plot, e.g. the x and the y axes.\n",
    "-   Finally, we use another layer, separated by a `+` to specify the\n",
    "    `geom`etric object for the plot. Since we want to scatterplot, we\n",
    "    use `geom_point`.\n",
    "\n",
    "You might wonder how you are supposed to know the syntax for the\n",
    "`ggplot` function. Thankfully, R documents all of its functions\n",
    "extensively. To read what a function does and learn the arguments that\n",
    "are available to you, just type in a question mark followed by the name\n",
    "of the function that you're interested in. Try the following in your\n",
    "console:"
   ]
  },
  {
   "cell_type": "code",
   "execution_count": null,
   "metadata": {
    "vscode": {
     "languageId": "r"
    }
   },
   "outputs": [],
   "source": [
    "  ?ggplot"
   ]
  },
  {
   "cell_type": "markdown",
   "metadata": {},
   "source": [
    "Notice that the help file replaces the plot in the lower right panel.\n",
    "You can toggle between plots and help files using the tabs at the top of\n",
    "that panel. <br> More extensive help for plotting with the `ggplot2`\n",
    "package can be found at <http://docs.ggplot2.org/current/>. The best\n",
    "(and easiest) way to learn the syntax is to take a look at the sample\n",
    "plots provided on that page, and modify the code bit by bit until you\n",
    "get achieve the plot you want."
   ]
  },
  {
   "cell_type": "markdown",
   "metadata": {},
   "source": [
    "### R as a big calculator\n",
    "\n",
    "Now, suppose we want to plot the total number of baptisms. To compute\n",
    "this, we could use the fact that R is really just a big calculator. We\n",
    "can type in mathematical expressions like"
   ]
  },
  {
   "cell_type": "code",
   "execution_count": 11,
   "metadata": {
    "vscode": {
     "languageId": "r"
    }
   },
   "outputs": [
    {
     "data": {
      "text/html": [
       "9901"
      ],
      "text/latex": [
       "9901"
      ],
      "text/markdown": [
       "9901"
      ],
      "text/plain": [
       "[1] 9901"
      ]
     },
     "metadata": {},
     "output_type": "display_data"
    }
   ],
   "source": [
    "5218 + 4683"
   ]
  },
  {
   "cell_type": "markdown",
   "metadata": {},
   "source": [
    "to see the total number of baptisms in 1629. We could repeat this once\n",
    "for each year, but there is a faster way. If we add the vector for\n",
    "baptisms for boys to that of girls, R will compute all sums\n",
    "simultaneously."
   ]
  },
  {
   "cell_type": "code",
   "execution_count": 12,
   "metadata": {
    "vscode": {
     "languageId": "r"
    }
   },
   "outputs": [
    {
     "data": {
      "text/html": [
       "<style>\n",
       ".list-inline {list-style: none; margin:0; padding: 0}\n",
       ".list-inline>li {display: inline-block}\n",
       ".list-inline>li:not(:last-child)::after {content: \"\\00b7\"; padding: 0 .5ex}\n",
       "</style>\n",
       "<ol class=list-inline><li>9901</li><li>9315</li><li>8524</li><li>9584</li><li>9997</li><li>9855</li><li>10034</li><li>9522</li><li>9160</li><li>10311</li><li>10150</li><li>10850</li><li>10670</li><li>10370</li><li>9410</li><li>8104</li><li>7966</li><li>7163</li><li>7332</li><li>6544</li><li>5825</li><li>5612</li><li>6071</li><li>6128</li><li>6155</li><li>6620</li><li>7004</li><li>7050</li><li>6685</li><li>6170</li><li>5990</li><li>6971</li><li>8855</li><li>10019</li><li>10292</li><li>11722</li><li>9972</li><li>8997</li><li>10938</li><li>11633</li><li>12335</li><li>11997</li><li>12510</li><li>12563</li><li>11895</li><li>11851</li><li>11775</li><li>12399</li><li>12626</li><li>12601</li><li>12288</li><li>12847</li><li>13355</li><li>13653</li><li>14735</li><li>14702</li><li>14730</li><li>14694</li><li>14951</li><li>14588</li><li>14771</li><li>15211</li><li>15054</li><li>14918</li><li>15159</li><li>13632</li><li>13976</li><li>14861</li><li>15829</li><li>16052</li><li>15363</li><li>14639</li><li>15616</li><li>15687</li><li>15448</li><li>11851</li><li>16145</li><li>15369</li><li>16066</li><li>15862</li><li>15220</li><li>14928</li></ol>\n"
      ],
      "text/latex": [
       "\\begin{enumerate*}\n",
       "\\item 9901\n",
       "\\item 9315\n",
       "\\item 8524\n",
       "\\item 9584\n",
       "\\item 9997\n",
       "\\item 9855\n",
       "\\item 10034\n",
       "\\item 9522\n",
       "\\item 9160\n",
       "\\item 10311\n",
       "\\item 10150\n",
       "\\item 10850\n",
       "\\item 10670\n",
       "\\item 10370\n",
       "\\item 9410\n",
       "\\item 8104\n",
       "\\item 7966\n",
       "\\item 7163\n",
       "\\item 7332\n",
       "\\item 6544\n",
       "\\item 5825\n",
       "\\item 5612\n",
       "\\item 6071\n",
       "\\item 6128\n",
       "\\item 6155\n",
       "\\item 6620\n",
       "\\item 7004\n",
       "\\item 7050\n",
       "\\item 6685\n",
       "\\item 6170\n",
       "\\item 5990\n",
       "\\item 6971\n",
       "\\item 8855\n",
       "\\item 10019\n",
       "\\item 10292\n",
       "\\item 11722\n",
       "\\item 9972\n",
       "\\item 8997\n",
       "\\item 10938\n",
       "\\item 11633\n",
       "\\item 12335\n",
       "\\item 11997\n",
       "\\item 12510\n",
       "\\item 12563\n",
       "\\item 11895\n",
       "\\item 11851\n",
       "\\item 11775\n",
       "\\item 12399\n",
       "\\item 12626\n",
       "\\item 12601\n",
       "\\item 12288\n",
       "\\item 12847\n",
       "\\item 13355\n",
       "\\item 13653\n",
       "\\item 14735\n",
       "\\item 14702\n",
       "\\item 14730\n",
       "\\item 14694\n",
       "\\item 14951\n",
       "\\item 14588\n",
       "\\item 14771\n",
       "\\item 15211\n",
       "\\item 15054\n",
       "\\item 14918\n",
       "\\item 15159\n",
       "\\item 13632\n",
       "\\item 13976\n",
       "\\item 14861\n",
       "\\item 15829\n",
       "\\item 16052\n",
       "\\item 15363\n",
       "\\item 14639\n",
       "\\item 15616\n",
       "\\item 15687\n",
       "\\item 15448\n",
       "\\item 11851\n",
       "\\item 16145\n",
       "\\item 15369\n",
       "\\item 16066\n",
       "\\item 15862\n",
       "\\item 15220\n",
       "\\item 14928\n",
       "\\end{enumerate*}\n"
      ],
      "text/markdown": [
       "1. 9901\n",
       "2. 9315\n",
       "3. 8524\n",
       "4. 9584\n",
       "5. 9997\n",
       "6. 9855\n",
       "7. 10034\n",
       "8. 9522\n",
       "9. 9160\n",
       "10. 10311\n",
       "11. 10150\n",
       "12. 10850\n",
       "13. 10670\n",
       "14. 10370\n",
       "15. 9410\n",
       "16. 8104\n",
       "17. 7966\n",
       "18. 7163\n",
       "19. 7332\n",
       "20. 6544\n",
       "21. 5825\n",
       "22. 5612\n",
       "23. 6071\n",
       "24. 6128\n",
       "25. 6155\n",
       "26. 6620\n",
       "27. 7004\n",
       "28. 7050\n",
       "29. 6685\n",
       "30. 6170\n",
       "31. 5990\n",
       "32. 6971\n",
       "33. 8855\n",
       "34. 10019\n",
       "35. 10292\n",
       "36. 11722\n",
       "37. 9972\n",
       "38. 8997\n",
       "39. 10938\n",
       "40. 11633\n",
       "41. 12335\n",
       "42. 11997\n",
       "43. 12510\n",
       "44. 12563\n",
       "45. 11895\n",
       "46. 11851\n",
       "47. 11775\n",
       "48. 12399\n",
       "49. 12626\n",
       "50. 12601\n",
       "51. 12288\n",
       "52. 12847\n",
       "53. 13355\n",
       "54. 13653\n",
       "55. 14735\n",
       "56. 14702\n",
       "57. 14730\n",
       "58. 14694\n",
       "59. 14951\n",
       "60. 14588\n",
       "61. 14771\n",
       "62. 15211\n",
       "63. 15054\n",
       "64. 14918\n",
       "65. 15159\n",
       "66. 13632\n",
       "67. 13976\n",
       "68. 14861\n",
       "69. 15829\n",
       "70. 16052\n",
       "71. 15363\n",
       "72. 14639\n",
       "73. 15616\n",
       "74. 15687\n",
       "75. 15448\n",
       "76. 11851\n",
       "77. 16145\n",
       "78. 15369\n",
       "79. 16066\n",
       "80. 15862\n",
       "81. 15220\n",
       "82. 14928\n",
       "\n",
       "\n"
      ],
      "text/plain": [
       " [1]  9901  9315  8524  9584  9997  9855 10034  9522  9160 10311 10150 10850\n",
       "[13] 10670 10370  9410  8104  7966  7163  7332  6544  5825  5612  6071  6128\n",
       "[25]  6155  6620  7004  7050  6685  6170  5990  6971  8855 10019 10292 11722\n",
       "[37]  9972  8997 10938 11633 12335 11997 12510 12563 11895 11851 11775 12399\n",
       "[49] 12626 12601 12288 12847 13355 13653 14735 14702 14730 14694 14951 14588\n",
       "[61] 14771 15211 15054 14918 15159 13632 13976 14861 15829 16052 15363 14639\n",
       "[73] 15616 15687 15448 11851 16145 15369 16066 15862 15220 14928"
      ]
     },
     "metadata": {},
     "output_type": "display_data"
    }
   ],
   "source": [
    "arbuthnot$boys + arbuthnot$girls"
   ]
  },
  {
   "cell_type": "markdown",
   "metadata": {},
   "source": [
    "What you will see are 82 numbers (in that packed display, because we\n",
    "aren't looking at a data frame here), each one representing the sum\n",
    "we're after. Take a look at a few of them and verify that they are\n",
    "right."
   ]
  },
  {
   "cell_type": "markdown",
   "metadata": {},
   "source": [
    "### Adding a new variable to the data frame\n",
    "\n",
    "We'll be using this new vector to generate some plots, so we'll want to\n",
    "save it as a permanent column in our data frame."
   ]
  },
  {
   "cell_type": "code",
   "execution_count": 13,
   "metadata": {
    "vscode": {
     "languageId": "r"
    }
   },
   "outputs": [],
   "source": [
    "arbuthnot <- arbuthnot %>%\n",
    "    mutate(total = boys + girls) "
   ]
  },
  {
   "cell_type": "code",
   "execution_count": 14,
   "metadata": {
    "vscode": {
     "languageId": "r"
    }
   },
   "outputs": [
    {
     "data": {
      "text/html": [
       "<table class=\"dataframe\">\n",
       "<caption>A tibble: 5 × 4</caption>\n",
       "<thead>\n",
       "\t<tr><th scope=col>year</th><th scope=col>boys</th><th scope=col>girls</th><th scope=col>total</th></tr>\n",
       "\t<tr><th scope=col>&lt;int&gt;</th><th scope=col>&lt;int&gt;</th><th scope=col>&lt;int&gt;</th><th scope=col>&lt;int&gt;</th></tr>\n",
       "</thead>\n",
       "<tbody>\n",
       "\t<tr><td>1710</td><td>7640</td><td>7288</td><td>14928</td></tr>\n",
       "\t<tr><td>1709</td><td>7840</td><td>7380</td><td>15220</td></tr>\n",
       "\t<tr><td>1708</td><td>8239</td><td>7623</td><td>15862</td></tr>\n",
       "\t<tr><td>1707</td><td>8379</td><td>7687</td><td>16066</td></tr>\n",
       "\t<tr><td>1706</td><td>7952</td><td>7417</td><td>15369</td></tr>\n",
       "</tbody>\n",
       "</table>\n"
      ],
      "text/latex": [
       "A tibble: 5 × 4\n",
       "\\begin{tabular}{llll}\n",
       " year & boys & girls & total\\\\\n",
       " <int> & <int> & <int> & <int>\\\\\n",
       "\\hline\n",
       "\t 1710 & 7640 & 7288 & 14928\\\\\n",
       "\t 1709 & 7840 & 7380 & 15220\\\\\n",
       "\t 1708 & 8239 & 7623 & 15862\\\\\n",
       "\t 1707 & 8379 & 7687 & 16066\\\\\n",
       "\t 1706 & 7952 & 7417 & 15369\\\\\n",
       "\\end{tabular}\n"
      ],
      "text/markdown": [
       "\n",
       "A tibble: 5 × 4\n",
       "\n",
       "| year &lt;int&gt; | boys &lt;int&gt; | girls &lt;int&gt; | total &lt;int&gt; |\n",
       "|---|---|---|---|\n",
       "| 1710 | 7640 | 7288 | 14928 |\n",
       "| 1709 | 7840 | 7380 | 15220 |\n",
       "| 1708 | 8239 | 7623 | 15862 |\n",
       "| 1707 | 8379 | 7687 | 16066 |\n",
       "| 1706 | 7952 | 7417 | 15369 |\n",
       "\n"
      ],
      "text/plain": [
       "  year boys girls total\n",
       "1 1710 7640 7288  14928\n",
       "2 1709 7840 7380  15220\n",
       "3 1708 8239 7623  15862\n",
       "4 1707 8379 7687  16066\n",
       "5 1706 7952 7417  15369"
      ]
     },
     "metadata": {},
     "output_type": "display_data"
    }
   ],
   "source": [
    "arbuthnot %>%\n",
    "    arrange(desc(year))%>%\n",
    "        head(5) "
   ]
  },
  {
   "cell_type": "markdown",
   "metadata": {},
   "source": [
    "What in the world is going on here? The `%>%` operator is called the\n",
    "**piping** operator. Basically, it takes the output of the current line\n",
    "and pipes it into the following line of code.\n",
    "\n",
    "\n",
    "**A note on piping:** Note that we can read these three lines of code as\n",
    "the following:\n",
    "\n",
    "Take the `arbuthnot` dataset and **pipe** it into the `mutate` function.\n",
    "\n",
    "Using this mutate a new variable called `total` that is the sum of the\n",
    "variables called `boys` and `girls`. Then assign this new resulting\n",
    "dataset to the object called `arbuthnot`, i.e. overwrite the old\n",
    "`arbuthnot` dataset with the new one containing the new variable.\"\n",
    "\n",
    "This is essentially equivalent to going through each row and adding up\n",
    "the boys and girls counts for that year and recording that value in a\n",
    "new column called total.\n",
    "\n",
    "\n",
    "\n",
    "**Where is the new variable?** When you make changes to variables in\n",
    "your dataset, click on the name of the dataset again to update it in the\n",
    "data viewer.\n",
    "\n",
    "\n",
    "You'll see that there is now a new column called `total` that has been\n",
    "tacked on to the data frame. The special symbol `<-` performs an\n",
    "*assignment*, taking the output of one line of code and saving it into\n",
    "an object in your workspace. In this case, you already have an object\n",
    "called `arbuthnot`, so this command updates that data set with the new\n",
    "mutated column.\n",
    "\n",
    "We can make a plot of the total number of baptisms per year with the\n",
    "following command.\n"
   ]
  },
  {
   "cell_type": "code",
   "execution_count": 15,
   "metadata": {
    "vscode": {
     "languageId": "r"
    }
   },
   "outputs": [
    {
     "data": {
      "image/png": "[encoded data removed]",
      "text/plain": [
       "plot without title"
      ]
     },
     "metadata": {
      "image/png": {
       "height": 420,
       "width": 420
      }
     },
     "output_type": "display_data"
    }
   ],
   "source": [
    "ggplot(data = arbuthnot, aes(x = year, y = total)) +\n",
    "  geom_line()"
   ]
  },
  {
   "cell_type": "markdown",
   "metadata": {},
   "source": [
    "Note that using `geom_line()` instead of `geom_point()` results in a\n",
    "line plot instead of a scatter plot. You want both? Just layer them on:"
   ]
  },
  {
   "cell_type": "code",
   "execution_count": 16,
   "metadata": {
    "vscode": {
     "languageId": "r"
    }
   },
   "outputs": [
    {
     "data": {
      "image/png": "[encoded data removed]",
      "text/plain": [
       "plot without title"
      ]
     },
     "metadata": {
      "image/png": {
       "height": 420,
       "width": 420
      }
     },
     "output_type": "display_data"
    }
   ],
   "source": [
    "ggplot(data = arbuthnot, aes(x = year, y = total)) +\n",
    "  geom_line() +\n",
    "  geom_point()"
   ]
  },
  {
   "cell_type": "markdown",
   "metadata": {},
   "source": [
    "**Exercise**: Now, generate a plot of the proportion of boys born over\n",
    "time. What do you see?"
   ]
  },
  {
   "cell_type": "code",
   "execution_count": 17,
   "metadata": {
    "vscode": {
     "languageId": "r"
    }
   },
   "outputs": [
    {
     "data": {
      "image/png": "[encoded data removed]",
      "text/plain": [
       "plot without title"
      ]
     },
     "metadata": {
      "image/png": {
       "height": 420,
       "width": 420
      }
     },
     "output_type": "display_data"
    }
   ],
   "source": [
    "arbuthnot <- arbuthnot %>%\n",
    " mutate(prop_boys = boys / total)\n",
    "ggplot(data = arbuthnot, aes(x = year, y = prop_boys)) +\n",
    "  geom_line() +\n",
    "  geom_point()"
   ]
  },
  {
   "cell_type": "markdown",
   "metadata": {},
   "source": [
    "Finally, in addition to simple mathematical operators like subtraction\n",
    "and division, you can ask R to make comparisons like greater than, `>`,\n",
    "less than, `<`, and equality, `==`. For example, we can ask if boys\n",
    "outnumber girls in each year with the expression"
   ]
  },
  {
   "cell_type": "code",
   "execution_count": 18,
   "metadata": {
    "vscode": {
     "languageId": "r"
    }
   },
   "outputs": [],
   "source": [
    "arbuthnot <- arbuthnot %>%\n",
    "  mutate(more_boys = boys > girls)"
   ]
  },
  {
   "cell_type": "markdown",
   "metadata": {},
   "source": [
    "This command add a new variable to the `arbuthnot` data frame containing\n",
    "the values of either `TRUE` if that year had more boys than girls, or\n",
    "`FALSE` if that year did not (the answer may surprise you). This\n",
    "variable contains different kind of data than we have considered so far.\n",
    "All other columns in the `arbuthnot` data frame have values are\n",
    "numerical (the year, the number of boys and girls). Here, we've asked R\n",
    "to create *logical* data, data where the values are either `TRUE` or\n",
    "`FALSE`. In general, data analysis will involve many different kinds of\n",
    "data types, and one reason for using R is that it is able to represent\n",
    "and compute with many of them.\n",
    "\n",
    "## Dataset 2: Present birth records\n",
    "\n",
    "In the previous few pages, you recreated some of the displays and\n",
    "preliminary analysis of Arbuthnot's baptism data. Next you will do a\n",
    "similar analysis, but for present day birth records in the United\n",
    "States. Load up the present day data with the following command."
   ]
  },
  {
   "cell_type": "code",
   "execution_count": 19,
   "metadata": {
    "vscode": {
     "languageId": "r"
    }
   },
   "outputs": [],
   "source": [
    "data(present)"
   ]
  },
  {
   "cell_type": "markdown",
   "metadata": {},
   "source": [
    "The data are stored in a data frame called `present` which should now be\n",
    "loaded in your workspace.\n",
    "\n",
    "4.  How many variables are included in this data set?\n",
    "\n",
    "    <ol>\n",
    "\n",
    "    <li>2</li>\n",
    "\n",
    "    <li style=\"color: green;\">3</li>\n",
    "\n",
    "    <li>4</li>\n",
    "\n",
    "    <li>74</li>\n",
    "\n",
    "    <li>2013</li>\n",
    "\n",
    "    </ol>"
   ]
  },
  {
   "cell_type": "code",
   "execution_count": 20,
   "metadata": {
    "vscode": {
     "languageId": "r"
    }
   },
   "outputs": [
    {
     "data": {
      "text/html": [
       "<style>\n",
       ".list-inline {list-style: none; margin:0; padding: 0}\n",
       ".list-inline>li {display: inline-block}\n",
       ".list-inline>li:not(:last-child)::after {content: \"\\00b7\"; padding: 0 .5ex}\n",
       "</style>\n",
       "<ol class=list-inline><li>'year'</li><li>'boys'</li><li>'girls'</li></ol>\n"
      ],
      "text/latex": [
       "\\begin{enumerate*}\n",
       "\\item 'year'\n",
       "\\item 'boys'\n",
       "\\item 'girls'\n",
       "\\end{enumerate*}\n"
      ],
      "text/markdown": [
       "1. 'year'\n",
       "2. 'boys'\n",
       "3. 'girls'\n",
       "\n",
       "\n"
      ],
      "text/plain": [
       "[1] \"year\"  \"boys\"  \"girls\""
      ]
     },
     "metadata": {},
     "output_type": "display_data"
    }
   ],
   "source": [
    "names(present)"
   ]
  },
  {
   "cell_type": "markdown",
   "metadata": {},
   "source": [
    "**Exercise**: What years are included in this dataset? **Hint:** Use the\n",
    "`range` function and `present$year` as its argument."
   ]
  },
  {
   "cell_type": "code",
   "execution_count": 21,
   "metadata": {
    "vscode": {
     "languageId": "r"
    }
   },
   "outputs": [
    {
     "data": {
      "text/html": [
       "<style>\n",
       ".list-inline {list-style: none; margin:0; padding: 0}\n",
       ".list-inline>li {display: inline-block}\n",
       ".list-inline>li:not(:last-child)::after {content: \"\\00b7\"; padding: 0 .5ex}\n",
       "</style>\n",
       "<ol class=list-inline><li>1940</li><li>2013</li></ol>\n"
      ],
      "text/latex": [
       "\\begin{enumerate*}\n",
       "\\item 1940\n",
       "\\item 2013\n",
       "\\end{enumerate*}\n"
      ],
      "text/markdown": [
       "1. 1940\n",
       "2. 2013\n",
       "\n",
       "\n"
      ],
      "text/plain": [
       "[1] 1940 2013"
      ]
     },
     "metadata": {},
     "output_type": "display_data"
    }
   ],
   "source": [
    "range(present$year)"
   ]
  },
  {
   "cell_type": "markdown",
   "metadata": {},
   "source": [
    "5.  Calculate the total number of births for each year and store these\n",
    "    values in a new variable called `total` in the `present` dataset.\n",
    "    Then, calculate the proportion of boys born each year and store\n",
    "    these values in a new variable called `prop_boys` in the same\n",
    "    dataset. Plot these values over time and based on the plot determine\n",
    "    if the following statement is true or false: The proportion of boys\n",
    "    born in the US has decreased over time.\n",
    "\n",
    "    <ol>\n",
    "\n",
    "    <li style=\"color: green;\">\n",
    "\n",
    "    True\n",
    "\n",
    "    </li>\n",
    "\n",
    "    <li>False</li>\n",
    "\n",
    "    </ol>"
   ]
  },
  {
   "cell_type": "code",
   "execution_count": 22,
   "metadata": {
    "vscode": {
     "languageId": "r"
    }
   },
   "outputs": [
    {
     "data": {
      "image/png": "[encoded data removed]",
      "text/plain": [
       "plot without title"
      ]
     },
     "metadata": {
      "image/png": {
       "height": 420,
       "width": 420
      }
     },
     "output_type": "display_data"
    }
   ],
   "source": [
    "    present <- present %>%\n",
    "     mutate(total = boys + girls)\n",
    "    present <- present %>%\n",
    "     mutate(prop_boys = boys / total)\n",
    "    ggplot(data = present, aes(x = year, y = prop_boys)) +\n",
    "      geom_line() +\n",
    "      geom_point()"
   ]
  },
  {
   "cell_type": "markdown",
   "metadata": {},
   "source": [
    "6.  Create a new variable called `more_boys` which contains the value of\n",
    "    either `TRUE` if that year had more boys than girls, or `FALSE` if\n",
    "    that year did not. Based on this variable which of the following\n",
    "    statements is true?\n",
    "\n",
    "    <ol>\n",
    "\n",
    "    <li>Every year there are more girls born than boys.</li>\n",
    "\n",
    "    <li style=\"color: green;\">Every year there are more boys born than girls.</li>\n",
    "\n",
    "    <li>Half of the years there are more boys born, and the other half\n",
    "    more girls born.</li>\n",
    "\n",
    "    </ol>"
   ]
  },
  {
   "cell_type": "code",
   "execution_count": 23,
   "metadata": {
    "vscode": {
     "languageId": "r"
    }
   },
   "outputs": [],
   "source": [
    "  present <- present %>%\n",
    "      mutate(more_boys = boys > girls)"
   ]
  },
  {
   "cell_type": "code",
   "execution_count": 24,
   "metadata": {
    "vscode": {
     "languageId": "r"
    }
   },
   "outputs": [
    {
     "name": "stdout",
     "output_type": "stream",
     "text": [
      "\u001b[90m# A tibble: 5 × 6\u001b[39m\n",
      "   year    boys   girls   total prop_boys more_boys\n",
      "  \u001b[3m\u001b[90m<dbl>\u001b[39m\u001b[23m   \u001b[3m\u001b[90m<dbl>\u001b[39m\u001b[23m   \u001b[3m\u001b[90m<dbl>\u001b[39m\u001b[23m   \u001b[3m\u001b[90m<dbl>\u001b[39m\u001b[23m     \u001b[3m\u001b[90m<dbl>\u001b[39m\u001b[23m \u001b[3m\u001b[90m<lgl>\u001b[39m\u001b[23m    \n",
      "\u001b[90m1\u001b[39m  \u001b[4m1\u001b[24m940 1\u001b[4m2\u001b[24m\u001b[4m1\u001b[24m\u001b[4m1\u001b[24m684 1\u001b[4m1\u001b[24m\u001b[4m4\u001b[24m\u001b[4m8\u001b[24m715 2\u001b[4m3\u001b[24m\u001b[4m6\u001b[24m\u001b[4m0\u001b[24m399     0.513 TRUE     \n",
      "\u001b[90m2\u001b[39m  \u001b[4m1\u001b[24m941 1\u001b[4m2\u001b[24m\u001b[4m8\u001b[24m\u001b[4m9\u001b[24m734 1\u001b[4m2\u001b[24m\u001b[4m2\u001b[24m\u001b[4m3\u001b[24m693 2\u001b[4m5\u001b[24m\u001b[4m1\u001b[24m\u001b[4m3\u001b[24m427     0.513 TRUE     \n",
      "\u001b[90m3\u001b[39m  \u001b[4m1\u001b[24m942 1\u001b[4m4\u001b[24m\u001b[4m4\u001b[24m\u001b[4m4\u001b[24m365 1\u001b[4m3\u001b[24m\u001b[4m6\u001b[24m\u001b[4m4\u001b[24m631 2\u001b[4m8\u001b[24m\u001b[4m0\u001b[24m\u001b[4m8\u001b[24m996     0.514 TRUE     \n",
      "\u001b[90m4\u001b[39m  \u001b[4m1\u001b[24m943 1\u001b[4m5\u001b[24m\u001b[4m0\u001b[24m\u001b[4m8\u001b[24m959 1\u001b[4m4\u001b[24m\u001b[4m2\u001b[24m\u001b[4m7\u001b[24m901 2\u001b[4m9\u001b[24m\u001b[4m3\u001b[24m\u001b[4m6\u001b[24m860     0.514 TRUE     \n",
      "\u001b[90m5\u001b[39m  \u001b[4m1\u001b[24m944 1\u001b[4m4\u001b[24m\u001b[4m3\u001b[24m\u001b[4m5\u001b[24m301 1\u001b[4m3\u001b[24m\u001b[4m5\u001b[24m\u001b[4m9\u001b[24m499 2\u001b[4m7\u001b[24m\u001b[4m9\u001b[24m\u001b[4m4\u001b[24m800     0.514 TRUE     \n"
     ]
    }
   ],
   "source": [
    "rows_true <- present %>%\n",
    "    filter(TRUE) %>%\n",
    "    slice_head(n = 5)\n",
    "\n",
    "#  rows if there are more girls than boys\n",
    "rows_false <- present %>%\n",
    "    filter(!TRUE) %>%\n",
    "    slice_head(n = 2)\n",
    "\n",
    "# Combine the results\n",
    "combined_result <- bind_rows(rows_true, rows_false)\n",
    "print(combined_result)"
   ]
  },
  {
   "cell_type": "markdown",
   "metadata": {},
   "source": [
    "7.  Calculate the boy-to-girl ratio each year, and store these values in\n",
    "    a new variable called `prop_boy_girl` in the `present` dataset. Plot\n",
    "    these values over time. Which of the following best describes the\n",
    "    trend?\n",
    "\n",
    "    <ol>\n",
    "\n",
    "    <li>There appears to be no trend in the boy-to-girl ratio from 1940\n",
    "    to 2013.</li>\n",
    "\n",
    "    <li>There is initially an increase in boy-to-girl ratio, which peaks\n",
    "    around 1960. After 1960 there is a decrease in the boy-to-girl\n",
    "    ratio, but the number begins to increase in the mid 1970s.</li>\n",
    "\n",
    "    <li style=\"color: green;\">There is initially a decrease in the boy-to-girl ratio, and then an\n",
    "    increase between 1960 and 1970, followed by a decrease.</li>\n",
    "\n",
    "    <li>The boy-to-girl ratio has increased over time.</li>\n",
    "\n",
    "    <li>There is an initial decrease in the boy-to-girl ratio born but\n",
    "    this number appears to level around 1960 and remain constant since\n",
    "    then.</li>\n",
    "\n",
    "    </ol>"
   ]
  },
  {
   "cell_type": "code",
   "execution_count": 25,
   "metadata": {
    "vscode": {
     "languageId": "r"
    }
   },
   "outputs": [
    {
     "data": {
      "image/png": "[encoded data removed]",
      "text/plain": [
       "plot without title"
      ]
     },
     "metadata": {
      "image/png": {
       "height": 420,
       "width": 420
      }
     },
     "output_type": "display_data"
    }
   ],
   "source": [
    "    present <- present %>%\n",
    "     mutate(prop_boy_girl = boys / girls)\n",
    "    ggplot(data = present, aes(x = year, y = prop_boy_girl)) +\n",
    "      geom_line() +\n",
    "      geom_point()"
   ]
  },
  {
   "cell_type": "markdown",
   "metadata": {},
   "source": [
    "8.  In what year did we see the most total number of births in the U.S.?\n",
    "    *Hint:* Sort your dataset in descending order based on the `total`\n",
    "    column. You can do this interactively in the data viewer by clicking\n",
    "    on the arrows next to the variable names. Or to arrange the data in\n",
    "    a descending order with new function: `desc` (for descending order).\n",
    "\n",
    "    <ol>\n",
    "\n",
    "    <li>1940</li>\n",
    "\n",
    "    <li>1957</li>\n",
    "\n",
    "    <li>1961</li>\n",
    "\n",
    "    <li>1991</li>\n",
    "\n",
    "    <li style=\"color: green;\">2007</li>\n",
    "\n",
    "    </ol>"
   ]
  },
  {
   "cell_type": "code",
   "execution_count": 26,
   "metadata": {
    "vscode": {
     "languageId": "r"
    }
   },
   "outputs": [
    {
     "data": {
      "text/html": [
       "<table class=\"dataframe\">\n",
       "<caption>A tibble: 5 × 7</caption>\n",
       "<thead>\n",
       "\t<tr><th scope=col>year</th><th scope=col>boys</th><th scope=col>girls</th><th scope=col>total</th><th scope=col>prop_boys</th><th scope=col>more_boys</th><th scope=col>prop_boy_girl</th></tr>\n",
       "\t<tr><th scope=col>&lt;dbl&gt;</th><th scope=col>&lt;dbl&gt;</th><th scope=col>&lt;dbl&gt;</th><th scope=col>&lt;dbl&gt;</th><th scope=col>&lt;dbl&gt;</th><th scope=col>&lt;lgl&gt;</th><th scope=col>&lt;dbl&gt;</th></tr>\n",
       "</thead>\n",
       "<tbody>\n",
       "\t<tr><td>2007</td><td>2208071</td><td>2108162</td><td>4316233</td><td>0.5115736</td><td>TRUE</td><td>1.047392</td></tr>\n",
       "\t<tr><td>1961</td><td>2186274</td><td>2082052</td><td>4268326</td><td>0.5122088</td><td>TRUE</td><td>1.050057</td></tr>\n",
       "\t<tr><td>2006</td><td>2184237</td><td>2081318</td><td>4265555</td><td>0.5120640</td><td>TRUE</td><td>1.049449</td></tr>\n",
       "\t<tr><td>1960</td><td>2179708</td><td>2078142</td><td>4257850</td><td>0.5119269</td><td>TRUE</td><td>1.048873</td></tr>\n",
       "\t<tr><td>1957</td><td>2179960</td><td>2074824</td><td>4254784</td><td>0.5123550</td><td>TRUE</td><td>1.050672</td></tr>\n",
       "</tbody>\n",
       "</table>\n"
      ],
      "text/latex": [
       "A tibble: 5 × 7\n",
       "\\begin{tabular}{lllllll}\n",
       " year & boys & girls & total & prop\\_boys & more\\_boys & prop\\_boy\\_girl\\\\\n",
       " <dbl> & <dbl> & <dbl> & <dbl> & <dbl> & <lgl> & <dbl>\\\\\n",
       "\\hline\n",
       "\t 2007 & 2208071 & 2108162 & 4316233 & 0.5115736 & TRUE & 1.047392\\\\\n",
       "\t 1961 & 2186274 & 2082052 & 4268326 & 0.5122088 & TRUE & 1.050057\\\\\n",
       "\t 2006 & 2184237 & 2081318 & 4265555 & 0.5120640 & TRUE & 1.049449\\\\\n",
       "\t 1960 & 2179708 & 2078142 & 4257850 & 0.5119269 & TRUE & 1.048873\\\\\n",
       "\t 1957 & 2179960 & 2074824 & 4254784 & 0.5123550 & TRUE & 1.050672\\\\\n",
       "\\end{tabular}\n"
      ],
      "text/markdown": [
       "\n",
       "A tibble: 5 × 7\n",
       "\n",
       "| year &lt;dbl&gt; | boys &lt;dbl&gt; | girls &lt;dbl&gt; | total &lt;dbl&gt; | prop_boys &lt;dbl&gt; | more_boys &lt;lgl&gt; | prop_boy_girl &lt;dbl&gt; |\n",
       "|---|---|---|---|---|---|---|\n",
       "| 2007 | 2208071 | 2108162 | 4316233 | 0.5115736 | TRUE | 1.047392 |\n",
       "| 1961 | 2186274 | 2082052 | 4268326 | 0.5122088 | TRUE | 1.050057 |\n",
       "| 2006 | 2184237 | 2081318 | 4265555 | 0.5120640 | TRUE | 1.049449 |\n",
       "| 1960 | 2179708 | 2078142 | 4257850 | 0.5119269 | TRUE | 1.048873 |\n",
       "| 1957 | 2179960 | 2074824 | 4254784 | 0.5123550 | TRUE | 1.050672 |\n",
       "\n"
      ],
      "text/plain": [
       "  year boys    girls   total   prop_boys more_boys prop_boy_girl\n",
       "1 2007 2208071 2108162 4316233 0.5115736 TRUE      1.047392     \n",
       "2 1961 2186274 2082052 4268326 0.5122088 TRUE      1.050057     \n",
       "3 2006 2184237 2081318 4265555 0.5120640 TRUE      1.049449     \n",
       "4 1960 2179708 2078142 4257850 0.5119269 TRUE      1.048873     \n",
       "5 1957 2179960 2074824 4254784 0.5123550 TRUE      1.050672     "
      ]
     },
     "metadata": {},
     "output_type": "display_data"
    }
   ],
   "source": [
    "present %>%\n",
    "    slice_max(order_by = total, n = 5)"
   ]
  },
  {
   "cell_type": "code",
   "execution_count": 27,
   "metadata": {
    "vscode": {
     "languageId": "r"
    }
   },
   "outputs": [
    {
     "name": "stdout",
     "output_type": "stream",
     "text": [
      "\u001b[90m# A tibble: 1 × 2\u001b[39m\n",
      "   year   total\n",
      "  \u001b[3m\u001b[90m<dbl>\u001b[39m\u001b[23m   \u001b[3m\u001b[90m<dbl>\u001b[39m\u001b[23m\n",
      "\u001b[90m1\u001b[39m  \u001b[4m2\u001b[24m007 4\u001b[4m3\u001b[24m\u001b[4m1\u001b[24m\u001b[4m6\u001b[24m233\n"
     ]
    }
   ],
   "source": [
    "highest_birth_year <- present %>%\n",
    "    arrange(desc(total)) %>%\n",
    "    slice_head(n = 1) %>%\n",
    "    select(year, total)\n",
    "\n",
    "\n",
    "print(highest_birth_year)"
   ]
  },
  {
   "cell_type": "markdown",
   "metadata": {},
   "source": [
    "## Resources for learning R and working in RStudio\n",
    "\n",
    "That was a short introduction to R and RStudio, but we will provide you\n",
    "with more functions and a more complete sense of the language as the\n",
    "course progresses. You might find the following tips and resources\n",
    "helpful.\n",
    "\n",
    "-   In this course we will be using the `dplyr` (for data wrangling) and\n",
    "    `ggplot2` (for data visualization) extensively. If you are googling\n",
    "    for R code, make sure to also include these package names in your\n",
    "    search query. For example, instead of googling \"scatterplot in R\",\n",
    "    google \"scatterplot in R with ggplot2\".\n",
    "\n",
    "-   The following cheathseets may come in handy throughout the course.\n",
    "    Note that some of the code on these cheatsheets may be too advanced\n",
    "    for this course, however majority of it will become useful as you\n",
    "    progress through the course material.\n",
    "\n",
    "    -   [Data wrangling\n",
    "        cheatsheet](http://www.rstudio.com/wp-content/uploads/2015/02/data-wrangling-cheatsheet.pdf)\n",
    "    -   [Data visualization\n",
    "        cheatsheet](http://www.rstudio.com/wp-content/uploads/2015/12/ggplot2-cheatsheet-2.0.pdf)\n",
    "    -   [R\n",
    "        Markdown](http://www.rstudio.com/wp-content/uploads/2016/03/rmarkdown-cheatsheet-2.0.pdf)\n",
    "\n",
    "-   While you will get plenty of exercise working with these packages in\n",
    "    the labs of this course, if you would like further opportunities to\n",
    "    practice we recommend checking out the relevant courses at\n",
    "    [DataCamp](https://www.datacamp.com/courses).\n",
    "\n",
    "This is a derivative of an\n",
    "[OpenIntro](https://www.openintro.org/stat/labs.php) lab, and is\n",
    "released under a [Attribution-NonCommercial-ShareAlike 3.0 United\n",
    "States](https://creativecommons.org/licenses/by-nc-sa/3.0/us/) license.\n"
   ]
  }
 ],
 "metadata": {
  "kernelspec": {
   "display_name": "R",
   "language": "R",
   "name": "ir"
  },
  "language_info": {
   "codemirror_mode": "r",
   "file_extension": ".r",
   "mimetype": "text/x-r-source",
   "name": "R",
   "pygments_lexer": "r",
   "version": "4.1.2"
  }
 },
 "nbformat": 4,
 "nbformat_minor": 2
}
