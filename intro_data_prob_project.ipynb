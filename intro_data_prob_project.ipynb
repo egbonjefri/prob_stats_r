{
 "cells": [
  {
   "cell_type": "markdown",
   "metadata": {},
   "source": [
    "# Exploring the BRFSS data\n",
    "### Statistics with R\n",
    "#### Duke University (Coursera)"
   ]
  },
  {
   "cell_type": "markdown",
   "metadata": {},
   "source": [
    "## Setup\n"
   ]
  },
  {
   "cell_type": "markdown",
   "metadata": {},
   "source": [
    "### Load packages\n"
   ]
  },
  {
   "cell_type": "code",
   "execution_count": 2,
   "metadata": {
    "vscode": {
     "languageId": "r"
    }
   },
   "outputs": [
    {
     "name": "stderr",
     "output_type": "stream",
     "text": [
      "\n",
      "Attaching package: ‘dplyr’\n",
      "\n",
      "\n",
      "The following objects are masked from ‘package:stats’:\n",
      "\n",
      "    filter, lag\n",
      "\n",
      "\n",
      "The following objects are masked from ‘package:base’:\n",
      "\n",
      "    intersect, setdiff, setequal, union\n",
      "\n",
      "\n"
     ]
    }
   ],
   "source": [
    "library(ggplot2)\n",
    "library(dplyr)"
   ]
  },
  {
   "cell_type": "code",
   "execution_count": 1,
   "metadata": {
    "vscode": {
     "languageId": "r"
    }
   },
   "outputs": [],
   "source": [
    "#download the data\n",
    "url <- \"https://d3c33hcgiwev3.cloudfront.net/4tiY2fqCQa-YmNn6gnGvzQ_1e7320c30a6f4b27894a54e2de50a805_brfss2013.RData?Expires=1703548800&Signature=jT-T-xg9cQpzZsOA5jIn3aOYD~wzUf2DlTBJtcp2FGJE3ePytNyWAskFSFRTa6GxZRz3JUn1RUuvjWAH0BodO1l8MNinvVuinFFEpeTpF87AZpJA2W14aidW5c-agxTmMAXOgistnlIkBcIYLzeQFtH6J8S3zuotZnSW8MqP1xU_&Key-Pair-Id=APKAJLTNE6QMUY6HBC5A\"  \n",
    "destfile <- \"brfss2013.Rdata\"            \n",
    "download.file(url, destfile)"
   ]
  },
  {
   "cell_type": "markdown",
   "metadata": {},
   "source": [
    "### Load data\n"
   ]
  },
  {
   "cell_type": "code",
   "execution_count": 2,
   "metadata": {
    "vscode": {
     "languageId": "r"
    }
   },
   "outputs": [],
   "source": [
    "load(\"brfss2013.Rdata\")"
   ]
  },
  {
   "cell_type": "code",
   "execution_count": 3,
   "metadata": {
    "vscode": {
     "languageId": "r"
    }
   },
   "outputs": [
    {
     "data": {
      "text/html": [
       "<table class=\"dataframe\">\n",
       "<caption>A data.frame: 3 × 330</caption>\n",
       "<thead>\n",
       "\t<tr><th></th><th scope=col>X_state</th><th scope=col>fmonth</th><th scope=col>idate</th><th scope=col>imonth</th><th scope=col>iday</th><th scope=col>iyear</th><th scope=col>dispcode</th><th scope=col>seqno</th><th scope=col>X_psu</th><th scope=col>ctelenum</th><th scope=col>⋯</th><th scope=col>X_pastae1</th><th scope=col>X_lmtact1</th><th scope=col>X_lmtwrk1</th><th scope=col>X_lmtscl1</th><th scope=col>X_rfseat2</th><th scope=col>X_rfseat3</th><th scope=col>X_flshot6</th><th scope=col>X_pneumo2</th><th scope=col>X_aidtst3</th><th scope=col>X_age80</th></tr>\n",
       "\t<tr><th></th><th scope=col>&lt;fct&gt;</th><th scope=col>&lt;fct&gt;</th><th scope=col>&lt;int&gt;</th><th scope=col>&lt;fct&gt;</th><th scope=col>&lt;fct&gt;</th><th scope=col>&lt;fct&gt;</th><th scope=col>&lt;fct&gt;</th><th scope=col>&lt;int&gt;</th><th scope=col>&lt;int&gt;</th><th scope=col>&lt;fct&gt;</th><th scope=col>⋯</th><th scope=col>&lt;fct&gt;</th><th scope=col>&lt;fct&gt;</th><th scope=col>&lt;fct&gt;</th><th scope=col>&lt;fct&gt;</th><th scope=col>&lt;fct&gt;</th><th scope=col>&lt;fct&gt;</th><th scope=col>&lt;fct&gt;</th><th scope=col>&lt;fct&gt;</th><th scope=col>&lt;fct&gt;</th><th scope=col>&lt;int&gt;</th></tr>\n",
       "</thead>\n",
       "<tbody>\n",
       "\t<tr><th scope=row>1</th><td>Alabama</td><td>January</td><td>1092013</td><td>January</td><td>9 </td><td>2013</td><td>Completed interview</td><td>2013000580</td><td>2013000580</td><td>Yes</td><td>⋯</td><td>Did not meet both guidelines</td><td>Told have arthritis and have limited usual activities</td><td>Told have arthritis and have limited work</td><td>Told have arthritis and social activities limited a lot   </td><td>Always or almost always wear seat belt</td><td>Always wear seat belt</td><td>NA</td><td>NA</td><td>No </td><td>60</td></tr>\n",
       "\t<tr><th scope=row>2</th><td>Alabama</td><td>January</td><td>1192013</td><td>January</td><td>19</td><td>2013</td><td>Completed interview</td><td>2013000593</td><td>2013000593</td><td>Yes</td><td>⋯</td><td>Did not meet both guidelines</td><td>Not told they have arthritis                         </td><td>Not told they have arthritis             </td><td>Not told they have arthritis                              </td><td>Always or almost always wear seat belt</td><td>Always wear seat belt</td><td>NA</td><td>NA</td><td>Yes</td><td>50</td></tr>\n",
       "\t<tr><th scope=row>3</th><td>Alabama</td><td>January</td><td>1192013</td><td>January</td><td>19</td><td>2013</td><td>Completed interview</td><td>2013000600</td><td>2013000600</td><td>Yes</td><td>⋯</td><td>Did not meet both guidelines</td><td>Told have arthritis and have limited usual activities</td><td>Told have arthritis and have limited work</td><td>Told have arthritis and social activities limited a little</td><td>Always or almost always wear seat belt</td><td>Always wear seat belt</td><td>NA</td><td>NA</td><td>Yes</td><td>55</td></tr>\n",
       "</tbody>\n",
       "</table>\n"
      ],
      "text/latex": [
       "A data.frame: 3 × 330\n",
       "\\begin{tabular}{r|lllllllllllllllllllll}\n",
       "  & X\\_state & fmonth & idate & imonth & iday & iyear & dispcode & seqno & X\\_psu & ctelenum & ⋯ & X\\_pastae1 & X\\_lmtact1 & X\\_lmtwrk1 & X\\_lmtscl1 & X\\_rfseat2 & X\\_rfseat3 & X\\_flshot6 & X\\_pneumo2 & X\\_aidtst3 & X\\_age80\\\\\n",
       "  & <fct> & <fct> & <int> & <fct> & <fct> & <fct> & <fct> & <int> & <int> & <fct> & ⋯ & <fct> & <fct> & <fct> & <fct> & <fct> & <fct> & <fct> & <fct> & <fct> & <int>\\\\\n",
       "\\hline\n",
       "\t1 & Alabama & January & 1092013 & January & 9  & 2013 & Completed interview & 2013000580 & 2013000580 & Yes & ⋯ & Did not meet both guidelines & Told have arthritis and have limited usual activities & Told have arthritis and have limited work & Told have arthritis and social activities limited a lot    & Always or almost always wear seat belt & Always wear seat belt & NA & NA & No  & 60\\\\\n",
       "\t2 & Alabama & January & 1192013 & January & 19 & 2013 & Completed interview & 2013000593 & 2013000593 & Yes & ⋯ & Did not meet both guidelines & Not told they have arthritis                          & Not told they have arthritis              & Not told they have arthritis                               & Always or almost always wear seat belt & Always wear seat belt & NA & NA & Yes & 50\\\\\n",
       "\t3 & Alabama & January & 1192013 & January & 19 & 2013 & Completed interview & 2013000600 & 2013000600 & Yes & ⋯ & Did not meet both guidelines & Told have arthritis and have limited usual activities & Told have arthritis and have limited work & Told have arthritis and social activities limited a little & Always or almost always wear seat belt & Always wear seat belt & NA & NA & Yes & 55\\\\\n",
       "\\end{tabular}\n"
      ],
      "text/markdown": [
       "\n",
       "A data.frame: 3 × 330\n",
       "\n",
       "| <!--/--> | X_state &lt;fct&gt; | fmonth &lt;fct&gt; | idate &lt;int&gt; | imonth &lt;fct&gt; | iday &lt;fct&gt; | iyear &lt;fct&gt; | dispcode &lt;fct&gt; | seqno &lt;int&gt; | X_psu &lt;int&gt; | ctelenum &lt;fct&gt; | ⋯ ⋯ | X_pastae1 &lt;fct&gt; | X_lmtact1 &lt;fct&gt; | X_lmtwrk1 &lt;fct&gt; | X_lmtscl1 &lt;fct&gt; | X_rfseat2 &lt;fct&gt; | X_rfseat3 &lt;fct&gt; | X_flshot6 &lt;fct&gt; | X_pneumo2 &lt;fct&gt; | X_aidtst3 &lt;fct&gt; | X_age80 &lt;int&gt; |\n",
       "|---|---|---|---|---|---|---|---|---|---|---|---|---|---|---|---|---|---|---|---|---|---|\n",
       "| 1 | Alabama | January | 1092013 | January | 9  | 2013 | Completed interview | 2013000580 | 2013000580 | Yes | ⋯ | Did not meet both guidelines | Told have arthritis and have limited usual activities | Told have arthritis and have limited work | Told have arthritis and social activities limited a lot    | Always or almost always wear seat belt | Always wear seat belt | NA | NA | No  | 60 |\n",
       "| 2 | Alabama | January | 1192013 | January | 19 | 2013 | Completed interview | 2013000593 | 2013000593 | Yes | ⋯ | Did not meet both guidelines | Not told they have arthritis                          | Not told they have arthritis              | Not told they have arthritis                               | Always or almost always wear seat belt | Always wear seat belt | NA | NA | Yes | 50 |\n",
       "| 3 | Alabama | January | 1192013 | January | 19 | 2013 | Completed interview | 2013000600 | 2013000600 | Yes | ⋯ | Did not meet both guidelines | Told have arthritis and have limited usual activities | Told have arthritis and have limited work | Told have arthritis and social activities limited a little | Always or almost always wear seat belt | Always wear seat belt | NA | NA | Yes | 55 |\n",
       "\n"
      ],
      "text/plain": [
       "  X_state fmonth  idate   imonth  iday iyear dispcode            seqno     \n",
       "1 Alabama January 1092013 January 9    2013  Completed interview 2013000580\n",
       "2 Alabama January 1192013 January 19   2013  Completed interview 2013000593\n",
       "3 Alabama January 1192013 January 19   2013  Completed interview 2013000600\n",
       "  X_psu      ctelenum ⋯ X_pastae1                   \n",
       "1 2013000580 Yes      ⋯ Did not meet both guidelines\n",
       "2 2013000593 Yes      ⋯ Did not meet both guidelines\n",
       "3 2013000600 Yes      ⋯ Did not meet both guidelines\n",
       "  X_lmtact1                                            \n",
       "1 Told have arthritis and have limited usual activities\n",
       "2 Not told they have arthritis                         \n",
       "3 Told have arthritis and have limited usual activities\n",
       "  X_lmtwrk1                                \n",
       "1 Told have arthritis and have limited work\n",
       "2 Not told they have arthritis             \n",
       "3 Told have arthritis and have limited work\n",
       "  X_lmtscl1                                                 \n",
       "1 Told have arthritis and social activities limited a lot   \n",
       "2 Not told they have arthritis                              \n",
       "3 Told have arthritis and social activities limited a little\n",
       "  X_rfseat2                              X_rfseat3             X_flshot6\n",
       "1 Always or almost always wear seat belt Always wear seat belt NA       \n",
       "2 Always or almost always wear seat belt Always wear seat belt NA       \n",
       "3 Always or almost always wear seat belt Always wear seat belt NA       \n",
       "  X_pneumo2 X_aidtst3 X_age80\n",
       "1 NA        No        60     \n",
       "2 NA        Yes       50     \n",
       "3 NA        Yes       55     "
      ]
     },
     "metadata": {},
     "output_type": "display_data"
    }
   ],
   "source": [
    "head(brfss2013,3)"
   ]
  },
  {
   "cell_type": "code",
   "execution_count": 4,
   "metadata": {
    "vscode": {
     "languageId": "r"
    }
   },
   "outputs": [
    {
     "data": {
      "text/html": [
       "<style>\n",
       ".list-inline {list-style: none; margin:0; padding: 0}\n",
       ".list-inline>li {display: inline-block}\n",
       ".list-inline>li:not(:last-child)::after {content: \"\\00b7\"; padding: 0 .5ex}\n",
       "</style>\n",
       "<ol class=list-inline><li>491775</li><li>330</li></ol>\n"
      ],
      "text/latex": [
       "\\begin{enumerate*}\n",
       "\\item 491775\n",
       "\\item 330\n",
       "\\end{enumerate*}\n"
      ],
      "text/markdown": [
       "1. 491775\n",
       "2. 330\n",
       "\n",
       "\n"
      ],
      "text/plain": [
       "[1] 491775    330"
      ]
     },
     "metadata": {},
     "output_type": "display_data"
    }
   ],
   "source": [
    "dim(brfss2013)"
   ]
  },
  {
   "cell_type": "markdown",
   "metadata": {},
   "source": [
    "Convert variables starting with underscore to include X"
   ]
  },
  {
   "cell_type": "code",
   "execution_count": 3,
   "metadata": {
    "vscode": {
     "languageId": "r"
    }
   },
   "outputs": [
    {
     "data": {
      "text/html": [
       "'X_age_g'"
      ],
      "text/latex": [
       "'X\\_age\\_g'"
      ],
      "text/markdown": [
       "'X_age_g'"
      ],
      "text/plain": [
       "[1] \"X_age_g\""
      ]
     },
     "metadata": {},
     "output_type": "display_data"
    }
   ],
   "source": [
    "grep(\"age_g\", names(brfss2013), value = TRUE)\n"
   ]
  },
  {
   "cell_type": "code",
   "execution_count": 4,
   "metadata": {
    "vscode": {
     "languageId": "r"
    }
   },
   "outputs": [
    {
     "data": {
      "text/html": [
       "'X_smoker3'"
      ],
      "text/latex": [
       "'X\\_smoker3'"
      ],
      "text/markdown": [
       "'X_smoker3'"
      ],
      "text/plain": [
       "[1] \"X_smoker3\""
      ]
     },
     "metadata": {},
     "output_type": "display_data"
    }
   ],
   "source": [
    "grep(\"smoker3\", names(brfss2013), value = TRUE)\n"
   ]
  },
  {
   "cell_type": "code",
   "execution_count": 4,
   "metadata": {
    "vscode": {
     "languageId": "r"
    }
   },
   "outputs": [
    {
     "data": {
      "text/html": [
       "'X_bmi5cat'"
      ],
      "text/latex": [
       "'X\\_bmi5cat'"
      ],
      "text/markdown": [
       "'X_bmi5cat'"
      ],
      "text/plain": [
       "[1] \"X_bmi5cat\""
      ]
     },
     "metadata": {},
     "output_type": "display_data"
    }
   ],
   "source": [
    "grep(\"bmi5cat\", names(brfss2013), value = TRUE)\n"
   ]
  },
  {
   "cell_type": "markdown",
   "metadata": {},
   "source": [
    "## Part 1: Data\n",
    "The Behavioral Risk Factor Surveillance System (BRFSS) is a health-related telephone survey system maintained by the Centers for Disease Control and Prevention (CDC) that collects data from U.S. residents regarding their health-related risk behaviors, chronic health conditions, and use of preventive services. Here's how the data collection process typically works for the BRFSS and the implications of this method on the scope of inference:\n",
    "\n",
    "### Data Collection Method:\n",
    "1. **Sampling:** BRFSS uses a state-based system where each state, the District of Columbia, and three U.S. territories participate. The survey targets adults aged 18 or older.\n",
    "2. **Telephone Surveys:** Participants are contacted using both landlines and cell phones through random digit dialing. This ensures a random sample of the population, intended to represent the larger population.\n",
    "3. **Questionnaires:** Standardized questionnaires are administered to collect data on various health aspects, including behaviors that affect health (e.g., smoking, alcohol use), chronic health conditions (e.g., diabetes, cancer), and use of preventive services (e.g., vaccinations, cancer screenings).\n",
    "4. **Weighting:** Data are weighted to account for the age, sex, and race/ethnicity of each respondent, aligning it more closely with the actual population demographics.\n",
    "\n",
    "### Implications for Scope of Inference:\n",
    "\n",
    "1. **Generalizability:**\n",
    "   - **Strengths:** Because the BRFSS uses a large, randomly selected sample and weights the responses to reflect population demographics, the results are generally considered representative of the adult population in each state and territory. This allows for a high level of generalizability to the broader U.S. adult population.\n",
    "   - **Limitations:** Even with adjustments, certain groups may be underrepresented, especially those without phones or those less likely to participate in surveys. The generalizability is also limited to the adult population, as it does not include children and adolescents.\n",
    "\n",
    "2. **Causality:**\n",
    "   - **Observational Nature:** As BRFSS is an observational study, it can identify associations between variables (e.g., between smoking and cancer) but cannot definitively establish causality. This is because there could be other confounding variables affecting the observed relationship.\n",
    "   - **Temporal Sequence:** While the survey can sometimes establish a temporal sequence (what came first), it does not control for variables, so it cannot rule out other potential causes or the directionality of the relationship.\n",
    "   - **Self-Reported Data:** Responses are based on participants' self-reports, which can be subject to recall bias and social desirability bias, potentially affecting the accuracy of the causal relationships inferred.\n",
    "\n",
    "### Additional Considerations:\n",
    "\n",
    "- **Ethical and Privacy Concerns:** The CDC must adhere to ethical guidelines in collecting data, ensuring confidentiality and privacy. This impacts how data can be collected and used.\n",
    "- **Technological Changes:** The shift from landline to mobile phones may affect the demographics of those surveyed over time, potentially impacting the representativeness and, therefore, the generalizability of the data.\n",
    "\n",
    "In conclusion, the BRFSS provides valuable health-related data that can be generalized to the adult population of the United States to a significant extent. However, as with any observational study, there are limitations in inferring causality. The design and methodology of the BRFSS reflect a balance between the need for comprehensive, accurate health data and the practical considerations of survey-based research.\n"
   ]
  },
  {
   "cell_type": "markdown",
   "metadata": {},
   "source": [
    "## Part 2: Research questions\n",
    "\n",
    "\n",
    "### 1. How does the prevalence of smoking vary by age group and educational level across different states?\n",
    "- **Variables Involved:** Smoking status (current smoker, former smoker, never smoked), age group (categorized), educational level (e.g., high school, some college, college graduate), and state.\n",
    "- **Why This Is of Interest:** Understanding the relationship between smoking, age, and education can help target public health campaigns more effectively. For example, if younger, less-educated individuals are more likely to smoke, interventions could be focused on these groups. Additionally, state-by-state analysis can help identify where more resources might be needed.\n",
    "\n",
    "### 2. What is the association between physical activity levels, obesity, and the incidence of diabetes in different racial/ethnic groups?\n",
    "- **Variables Involved:** Physical activity levels (e.g., active, moderately active, inactive), obesity status (BMI categories), incidence of diabetes (yes or no), and racial/ethnic background.\n",
    "- **Why This Is of Interest:** Exploring these variables together can provide insights into how lifestyle factors and obesity are related to diabetes across different racial/ethnic groups. This is important for developing tailored, culturally sensitive health promotion strategies and understanding potential health disparities.\n",
    "\n",
    "### 3. How does the access to healthcare (measured by frequency of routine checkups) affect the self-reported general health status and mental health status among adults with chronic conditions?\n",
    "- **Variables Involved:** Access to healthcare (e.g., annual, biennial, no routine checkups), self-reported general health status (e.g., excellent, very good, good, fair, poor), self-reported mental health status (number of days of poor mental health in past month), and presence of chronic conditions (e.g., hypertension, heart disease).\n",
    "- **Why This Is of Interest:** This question aims to explore the potential impact of healthcare access on the well-being of individuals with chronic conditions. It's crucial for understanding how regular medical care might influence not just physical health but also mental health, which can inform policies to improve healthcare services and support systems.\n",
    "\n",
    "### Discussion:\n",
    "Each of these questions is designed to address critical public health issues by understanding the interplay between various factors such as demographics, lifestyle, access to care, and health outcomes. They leverage the comprehensive nature of the BRFSS data to extract meaningful patterns and relationships that can inform healthcare policies, resource allocation, and targeted interventions. The questions are also phrased to reflect the observational and cross-sectional nature of the data, focusing on associations rather than causal relationships."
   ]
  },
  {
   "cell_type": "markdown",
   "metadata": {},
   "source": [
    "## Part 3: Exploratory data analysis\n",
    "\n",
    "\n",
    "### Research Question 1: Prevalence of Smoking by Age Group and Educational Level\n",
    "\n",
    "**Analysis:**\n",
    "- **Numerical Summary:** Calculate the proportion of current, former, and never smokers within each age group and educational level using the `table()` and `prop.table()` functions in R.\n",
    "\n",
    "##### 1. **Create a Contingency Table:**\n",
    "Use the `table()` function to create a contingency table of smokers by age group and educational level."
   ]
  },
  {
   "cell_type": "code",
   "execution_count": 9,
   "metadata": {
    "vscode": {
     "languageId": "r"
    }
   },
   "outputs": [],
   "source": [
    "smoker_table <- table(brfss2013$X_age_g, brfss2013$X_smoker3, brfss2013$educa)"
   ]
  },
  {
   "cell_type": "markdown",
   "metadata": {},
   "source": [
    "##### 2. **Calculate Proportions:**\n",
    "Convert the counts in the contingency table to proportions using `prop.table()`. To get the proportion within each age group and educational level, use a margin of 3 (which corresponds to the third dimension in your table: the educational level)."
   ]
  },
  {
   "cell_type": "code",
   "execution_count": 10,
   "metadata": {
    "vscode": {
     "languageId": "r"
    }
   },
   "outputs": [],
   "source": [
    "smoker_proportions <- prop.table(smoker_table, margin = 3)\n"
   ]
  },
  {
   "cell_type": "markdown",
   "metadata": {},
   "source": [
    "##### 3. **View the Results:**\n",
    "Examine the proportions to understand the distribution of smoker status within each age group and educational level."
   ]
  },
  {
   "cell_type": "code",
   "execution_count": 11,
   "metadata": {
    "vscode": {
     "languageId": "r"
    }
   },
   "outputs": [
    {
     "data": {
      "text/plain": [
       ", ,  = Never attended school or only kindergarten\n",
       "\n",
       "                 \n",
       "                  Current smoker - now smokes every day\n",
       "  Age 18 to 24                              0.006309148\n",
       "  Age 25 to 34                              0.003154574\n",
       "  Age 35 to 44                              0.007886435\n",
       "  Age 45 to 54                              0.009463722\n",
       "  Age 55 to 64                              0.012618297\n",
       "  Age 65 or older                           0.023659306\n",
       "                 \n",
       "                  Current smoker - now smokes some days Former smoker\n",
       "  Age 18 to 24                              0.001577287   0.004731861\n",
       "  Age 25 to 34                              0.007886435   0.017350158\n",
       "  Age 35 to 44                              0.011041009   0.015772871\n",
       "  Age 45 to 54                              0.006309148   0.026813880\n",
       "  Age 55 to 64                              0.014195584   0.059936909\n",
       "  Age 65 or older                           0.011041009   0.107255521\n",
       "                 \n",
       "                  Never smoked\n",
       "  Age 18 to 24     0.020504732\n",
       "  Age 25 to 34     0.067823344\n",
       "  Age 35 to 44     0.097791798\n",
       "  Age 45 to 54     0.086750789\n",
       "  Age 55 to 64     0.110410095\n",
       "  Age 65 or older  0.269716088\n",
       "\n",
       ", ,  = Grades 1 through 8 (Elementary)\n",
       "\n",
       "                 \n",
       "                  Current smoker - now smokes every day\n",
       "  Age 18 to 24                              0.003589544\n",
       "  Age 25 to 34                              0.009910261\n",
       "  Age 35 to 44                              0.014202107\n",
       "  Age 45 to 54                              0.028872415\n",
       "  Age 55 to 64                              0.034802965\n",
       "  Age 65 or older                           0.038938744\n",
       "                 \n",
       "                  Current smoker - now smokes some days Former smoker\n",
       "  Age 18 to 24                              0.002262973   0.001638705\n",
       "  Age 25 to 34                              0.004760047   0.007647288\n",
       "  Age 35 to 44                              0.006632852   0.014826375\n",
       "  Age 45 to 54                              0.009988295   0.026063207\n",
       "  Age 55 to 64                              0.012173234   0.048536871\n",
       "  Age 65 or older                           0.015060476   0.184861490\n",
       "                 \n",
       "                  Never smoked\n",
       "  Age 18 to 24     0.011548966\n",
       "  Age 25 to 34     0.048536871\n",
       "  Age 35 to 44     0.066484588\n",
       "  Age 45 to 54     0.066484588\n",
       "  Age 55 to 64     0.076316816\n",
       "  Age 65 or older  0.265860320\n",
       "\n",
       ", ,  = Grades 9 though 11 (Some high school)\n",
       "\n",
       "                 \n",
       "                  Current smoker - now smokes every day\n",
       "  Age 18 to 24                              0.020216180\n",
       "  Age 25 to 34                              0.037923784\n",
       "  Age 35 to 44                              0.034345372\n",
       "  Age 45 to 54                              0.056996348\n",
       "  Age 55 to 64                              0.047773638\n",
       "  Age 65 or older                           0.040616815\n",
       "                 \n",
       "                  Current smoker - now smokes some days Former smoker\n",
       "  Age 18 to 24                              0.006714133   0.005017154\n",
       "  Age 25 to 34                              0.010587671   0.014867009\n",
       "  Age 35 to 44                              0.009370273   0.017080459\n",
       "  Age 45 to 54                              0.014830118   0.036005460\n",
       "  Age 55 to 64                              0.017412476   0.053639281\n",
       "  Age 65 or older                           0.014719445   0.160216918\n",
       "                 \n",
       "                  Never smoked\n",
       "  Age 18 to 24     0.043678755\n",
       "  Age 25 to 34     0.037149076\n",
       "  Age 35 to 44     0.043494300\n",
       "  Age 45 to 54     0.048732800\n",
       "  Age 55 to 64     0.056110968\n",
       "  Age 65 or older  0.172501568\n",
       "\n",
       ", ,  = Grade 12 or GED (High school graduate)\n",
       "\n",
       "                 \n",
       "                  Current smoker - now smokes every day\n",
       "  Age 18 to 24                              0.011446568\n",
       "  Age 25 to 34                              0.022075007\n",
       "  Age 35 to 44                              0.021741964\n",
       "  Age 45 to 54                              0.038502751\n",
       "  Age 55 to 64                              0.039052997\n",
       "  Age 65 or older                           0.027410947\n",
       "                 \n",
       "                  Current smoker - now smokes some days Former smoker\n",
       "  Age 18 to 24                              0.005459021   0.005929626\n",
       "  Age 25 to 34                              0.007312482   0.014842166\n",
       "  Age 35 to 44                              0.007059079   0.019323776\n",
       "  Age 45 to 54                              0.011446568   0.041862149\n",
       "  Age 55 to 64                              0.011765132   0.069555459\n",
       "  Age 65 or older                           0.010005792   0.147169128\n",
       "                 \n",
       "                  Never smoked\n",
       "  Age 18 to 24     0.045793513\n",
       "  Age 25 to 34     0.037684622\n",
       "  Age 35 to 44     0.045800753\n",
       "  Age 45 to 54     0.074768317\n",
       "  Age 55 to 64     0.093389806\n",
       "  Age 65 or older  0.190602375\n",
       "\n",
       ", ,  = College 1 year to 3 years (Some college or technical school)\n",
       "\n",
       "                 \n",
       "                  Current smoker - now smokes every day\n",
       "  Age 18 to 24                              0.007327830\n",
       "  Age 25 to 34                              0.019173341\n",
       "  Age 35 to 44                              0.019510253\n",
       "  Age 45 to 54                              0.028813611\n",
       "  Age 55 to 64                              0.031623761\n",
       "  Age 65 or older                           0.020184076\n",
       "                 \n",
       "                  Current smoker - now smokes some days Former smoker\n",
       "  Age 18 to 24                              0.004915849   0.005551387\n",
       "  Age 25 to 34                              0.008897533   0.021677208\n",
       "  Age 35 to 44                              0.007756627   0.027565506\n",
       "  Age 45 to 54                              0.010421293   0.043147675\n",
       "  Age 55 to 64                              0.012312593   0.077834270\n",
       "  Age 65 or older                           0.008070568   0.128876399\n",
       "                 \n",
       "                  Never smoked\n",
       "  Age 18 to 24     0.058461845\n",
       "  Age 25 to 34     0.054579703\n",
       "  Age 35 to 44     0.065590591\n",
       "  Age 45 to 54     0.085805296\n",
       "  Age 55 to 64     0.108516210\n",
       "  Age 65 or older  0.143386576\n",
       "\n",
       ", ,  = College 4 years or more (College graduate)\n",
       "\n",
       "                 \n",
       "                  Current smoker - now smokes every day\n",
       "  Age 18 to 24                              0.001097258\n",
       "  Age 25 to 34                              0.006215786\n",
       "  Age 35 to 44                              0.008036511\n",
       "  Age 45 to 54                              0.010562616\n",
       "  Age 55 to 64                              0.013317819\n",
       "  Age 65 or older                           0.010490269\n",
       "                 \n",
       "                  Current smoker - now smokes some days Former smoker\n",
       "  Age 18 to 24                              0.001338414   0.001688089\n",
       "  Age 25 to 34                              0.005769648   0.017923891\n",
       "  Age 35 to 44                              0.004732679   0.027859503\n",
       "  Age 45 to 54                              0.005335568   0.035787494\n",
       "  Age 55 to 64                              0.006113295   0.069657800\n",
       "  Age 65 or older                           0.004497552   0.119396146\n",
       "                 \n",
       "                  Never smoked\n",
       "  Age 18 to 24     0.022252635\n",
       "  Age 25 to 34     0.088968336\n",
       "  Age 35 to 44     0.111914293\n",
       "  Age 45 to 54     0.130199918\n",
       "  Age 55 to 64     0.147279765\n",
       "  Age 65 or older  0.149564714\n"
      ]
     },
     "metadata": {},
     "output_type": "display_data"
    }
   ],
   "source": [
    "smoker_proportions"
   ]
  },
  {
   "cell_type": "markdown",
   "metadata": {},
   "source": [
    "\n",
    "### Notes:\n",
    "\n",
    "- **Understanding `prop.table()` Margins**: The margin parameter specifies which margin to use for normalization. In a 3-dimensional table:\n",
    "  - Margin 1 would normalize across the first dimension (age groups),\n",
    "  - Margin 2 would normalize across the second dimension (smoker status),\n",
    "  - Margin 3 normalizes across the third dimension (educational level).\n",
    "In the context of calculating proportions with the `prop.table()` function in R, \"normalization\" refers to the process of converting raw count data into relative proportions or percentages that sum up to 1 (or 100%) within a specified group or margin. This helps in understanding the data in terms of relative distribution rather than absolute numbers, which is particularly useful when comparing groups of different sizes.\n",
    "\n",
    "Here's what normalization means for different margins in a contingency table:\n",
    "\n",
    "### Margin 1 (e.g., Age Groups):\n",
    "- **Without Normalization:** You have the raw counts of smokers, former smokers, and never smokers within each age group and educational level.\n",
    "- **With Normalization (Margin 1):** The counts for each age group are converted into proportions. The proportions of current, former, and never smokers within each age group will sum up to 1. This lets you compare the distribution of smoking status within each age group, regardless of how many people are in each age group.\n",
    "\n",
    "### Margin 2 (e.g., Smoker Status):\n",
    "- **Without Normalization:** Raw counts of each category of smoker status across all age groups and educational levels.\n",
    "- **With Normalization (Margin 2):** The counts for each smoker status category are converted into proportions across all age groups and educational levels. This allows you to see the relative distribution of age groups and educational levels within each smoker status category.\n",
    "\n",
    "### Margin 3 (e.g., Educational Level):\n",
    "- **Without Normalization:** Raw counts of each category of smoker status within each combination of age group and educational level.\n",
    "- **With Normalization (Margin 3):** The counts for each combination of age group and smoker status are converted into proportions within each educational level. This lets you compare the distribution of smoker status within each educational level, making it easier to compare across educational levels regardless of their size.\n",
    "\n",
    "### Why Normalize?\n",
    "Normalization is crucial when comparing groups that are of different sizes. It allows for a fair comparison by transforming the data into a standardized form where the total of each group is comparable. For example, if one age group has many more respondents than another, comparing raw counts might be misleading. However, comparing the proportion of smokers within each age group normalizes the data, allowing for a meaningful comparison of the prevalence of smoking across age groups.\n",
    "\n",
    "In summary, normalization in this context means adjusting the raw data to a common scale (proportions or percentages) that allows for more direct and meaningful comparisons across different groups or categories.\n"
   ]
  },
  {
   "cell_type": "markdown",
   "metadata": {},
   "source": [
    "- **Visualization:** Create grouped bar plots to show the smoking status distribution across different age groups and educational levels. "
   ]
  },
  {
   "cell_type": "code",
   "execution_count": 8,
   "metadata": {
    "vscode": {
     "languageId": "r"
    }
   },
   "outputs": [],
   "source": [
    "p <- ggplot(brfss2013, aes(x = X_age_g, fill = X_smoker3)) +\n",
    "  geom_bar(position = \"fill\") +\n",
    "  facet_wrap(~educa, scales = \"free_x\") +\n",
    "  labs(title = \"Smoking Status by Age Group and Educational Level\", x = \"Age Group\", y = \"Proportion\") +\n",
    "  theme(axis.text.x = element_text(angle = 90, hjust = 0.5))\n",
    "ggsave(\"plot.png\", plot = p, width = 20, height = 15, units = \"in\")"
   ]
  },
  {
   "cell_type": "markdown",
   "metadata": {},
   "source": [
    "![Research Question 1 Visualization](plot.png)\n"
   ]
  },
  {
   "cell_type": "markdown",
   "metadata": {},
   "source": [
    "**Interpretation:**\n",
    "It appears that regardless of educational status, younger generations are smoking less compared to older generations, which might indicate shifts in societal norms and the effectiveness of public health campaigns."
   ]
  },
  {
   "cell_type": "markdown",
   "metadata": {},
   "source": [
    "\n",
    "\n",
    "### Research Question 2: Association Between Physical Activity, Obesity, and Diabetes in Racial/Ethnic Groups\n",
    "\n",
    "**Analysis:**\n",
    "- **Numerical Summary:** Calculate the incidence of diabetes within each category of physical activity and obesity, stratified by racial/ethnic group. Given that diabetes status is a categorical variable with multiple levels, you'll want to calculate the incidence of confirmed diabetes ('Yes') within each category of physical activity and obesity, stratified by racial/ethnic group. In this case, you might be specifically interested in the proportion of respondents who have reported 'Yes' to having diabetes."
   ]
  },
  {
   "cell_type": "code",
   "execution_count": 5,
   "metadata": {
    "vscode": {
     "languageId": "r"
    }
   },
   "outputs": [],
   "source": [
    "   brfss2013 <- brfss2013 %>%\n",
    "                 mutate(diabetes_binary = as.integer(diabete3 == 'Yes'))"
   ]
  },
  {
   "cell_type": "code",
   "execution_count": 6,
   "metadata": {
    "vscode": {
     "languageId": "r"
    }
   },
   "outputs": [
    {
     "name": "stdout",
     "output_type": "stream",
     "text": [
      "\u001b[90m# A tibble: 82 × 4\u001b[39m\n",
      "   exerany2 X_bmi5cat     rrclass2                                diabetes_rate\n",
      "   \u001b[3m\u001b[90m<fct>\u001b[39m\u001b[23m    \u001b[3m\u001b[90m<fct>\u001b[39m\u001b[23m         \u001b[3m\u001b[90m<fct>\u001b[39m\u001b[23m                                           \u001b[3m\u001b[90m<dbl>\u001b[39m\u001b[23m\n",
      "\u001b[90m 1\u001b[39m Yes      Underweight   White                                          0.019\u001b[4m2\u001b[24m\n",
      "\u001b[90m 2\u001b[39m Yes      Underweight   Hispanic or Latino                             0     \n",
      "\u001b[90m 3\u001b[39m Yes      Underweight   American Indian or Alaska Native               0     \n",
      "\u001b[90m 4\u001b[39m Yes      Underweight   Some Other Group                               0     \n",
      "\u001b[90m 5\u001b[39m Yes      Underweight   \u001b[31mNA\u001b[39m                                             0.041\u001b[4m5\u001b[24m\n",
      "\u001b[90m 6\u001b[39m Yes      Normal weight White                                          0.047\u001b[4m8\u001b[24m\n",
      "\u001b[90m 7\u001b[39m Yes      Normal weight Black or African American                      0.071\u001b[4m4\u001b[24m\n",
      "\u001b[90m 8\u001b[39m Yes      Normal weight Hispanic or Latino                             0.113 \n",
      "\u001b[90m 9\u001b[39m Yes      Normal weight Asian                                          0     \n",
      "\u001b[90m10\u001b[39m Yes      Normal weight Native Hawaiian or Other Pacific Island        0     \n",
      "\u001b[90m# ℹ 72 more rows\u001b[39m\n"
     ]
    }
   ],
   "source": [
    "\n",
    "diabetes_summary <- brfss2013 %>%\n",
    "  group_by(exerany2, X_bmi5cat, rrclass2) %>%\n",
    "  summarize(diabetes_rate = mean(diabetes_binary, na.rm = TRUE), .groups = 'drop')\n",
    "print(diabetes_summary)\n"
   ]
  },
  {
   "cell_type": "markdown",
   "metadata": {},
   "source": [
    "### Notes:\n",
    "\n",
    "- **Handling NA Values**: The examples use `na.rm = TRUE` to exclude NA values from the calculation. Ensure this aligns with how you want to treat missing data.\n",
    "- **Result Interpretation**: The `incidence` calculated here is the proportion of respondents who reported 'Yes' to having diabetes within each subgroup.\n"
   ]
  },
  {
   "cell_type": "code",
   "execution_count": 8,
   "metadata": {
    "vscode": {
     "languageId": "r"
    }
   },
   "outputs": [],
   "source": [
    "p2 <- ggplot(diabetes_summary, aes(x = exerany2, y = X_bmi5cat, fill = diabetes_rate)) +\n",
    "  geom_tile() + \n",
    "  facet_wrap(~ rrclass2, scales = \"free_x\") +\n",
    "  scale_fill_gradient(low = \"blue\", high = \"red\") +  \n",
    "  labs(title = \"Diabetes Rate by Physical Activity and Obesity Across Racial Groups\",\n",
    "       x = \"Physical Activity Level\",\n",
    "       y = \"Obesity Level\",\n",
    "       fill = \"Diabetes Rate\") +\n",
    "  theme(axis.text.x = element_text(angle = 45, hjust = 1))  \n",
    "\n",
    "ggsave(\"plot2.png\", plot = p2, width = 20, height = 15, units = \"in\")"
   ]
  },
  {
   "cell_type": "markdown",
   "metadata": {},
   "source": [
    "![Research Question 2 Visualization](plot2.png)\n"
   ]
  },
  {
   "cell_type": "markdown",
   "metadata": {},
   "source": [
    "**Interpretation:**\n",
    "Looks like low physical activity and higher obesity levels correspond with higher diabetes incidence, however this pattern varies significantly across racial/ethnic groups."
   ]
  },
  {
   "cell_type": "markdown",
   "metadata": {},
   "source": [
    "### Research Question 3: Impact of Healthcare Access on Health Status in Adults with Chronic Conditions\n",
    "\n",
    "**Analysis:**\n",
    "- **Numerical Summary:** Calculate average self-reported general health status for each category of healthcare access among adults with chronic conditions. Summarize using `dplyr`.\n",
    "\n",
    "To calculate the average self-reported general health status for each category of healthcare access among adults with chronic conditions, we'll first need to identify the relevant variables in our dataset. Variables like `genhlth` representing health statuses, `hlthpln1` representing the category of healthcare access, and a variable indicating whether an adult has a chronic condition.\n",
    "The BRFSS dataset includes a range of chronic conditions like diabetes, heart disease, asthma, etc. First, we are going to identify three specific conditions and filter the samples that answered Yes."
   ]
  },
  {
   "cell_type": "code",
   "execution_count": 4,
   "metadata": {
    "vscode": {
     "languageId": "r"
    }
   },
   "outputs": [],
   "source": [
    "specific_conditions <- brfss2013 %>%\n",
    "  filter(cvdstrk3 == \"Yes\" | asthma3 == \"Yes\" | diabete3 == \"Yes\") %>%\n",
    "  mutate(\n",
    "    SpecificCondition = case_when(\n",
    "      cvdstrk3 == \"Yes\" ~ \"Stroke\",\n",
    "      asthma3 == \"Yes\" ~ \"Asthma\",\n",
    "      diabete3 == \"Yes\" ~ \"Diabetes\"\n",
    "    )\n",
    "  )"
   ]
  },
  {
   "cell_type": "code",
   "execution_count": 16,
   "metadata": {
    "vscode": {
     "languageId": "r"
    }
   },
   "outputs": [
    {
     "name": "stdout",
     "output_type": "stream",
     "text": [
      "\u001b[90m# A tibble: 218 × 7\u001b[39m\n",
      "   hlthpln1 stroke_binary asthma_binary diabetes_binary genhlth count proportion\n",
      "   \u001b[3m\u001b[90m<fct>\u001b[39m\u001b[23m            \u001b[3m\u001b[90m<int>\u001b[39m\u001b[23m         \u001b[3m\u001b[90m<int>\u001b[39m\u001b[23m           \u001b[3m\u001b[90m<int>\u001b[39m\u001b[23m \u001b[3m\u001b[90m<fct>\u001b[39m\u001b[23m   \u001b[3m\u001b[90m<int>\u001b[39m\u001b[23m      \u001b[3m\u001b[90m<dbl>\u001b[39m\u001b[23m\n",
      "\u001b[90m 1\u001b[39m Yes                  0             0               1 Excell…  \u001b[4m1\u001b[24m504    0.011\u001b[4m6\u001b[24m \n",
      "\u001b[90m 2\u001b[39m Yes                  0             0               1 Very g…  \u001b[4m7\u001b[24m770    0.060\u001b[4m1\u001b[24m \n",
      "\u001b[90m 3\u001b[39m Yes                  0             0               1 Good    \u001b[4m1\u001b[24m\u001b[4m6\u001b[24m389    0.127  \n",
      "\u001b[90m 4\u001b[39m Yes                  0             0               1 Fair    \u001b[4m1\u001b[24m\u001b[4m1\u001b[24m425    0.088\u001b[4m4\u001b[24m \n",
      "\u001b[90m 5\u001b[39m Yes                  0             0               1 Poor     \u001b[4m4\u001b[24m768    0.036\u001b[4m9\u001b[24m \n",
      "\u001b[90m 6\u001b[39m Yes                  0             0               1 \u001b[31mNA\u001b[39m        191    0.001\u001b[4m4\u001b[24m\u001b[4m8\u001b[24m\n",
      "\u001b[90m 7\u001b[39m Yes                  0             1               0 Excell…  \u001b[4m5\u001b[24m894    0.045\u001b[4m6\u001b[24m \n",
      "\u001b[90m 8\u001b[39m Yes                  0             1               0 Very g… \u001b[4m1\u001b[24m\u001b[4m4\u001b[24m485    0.112  \n",
      "\u001b[90m 9\u001b[39m Yes                  0             1               0 Good    \u001b[4m1\u001b[24m\u001b[4m4\u001b[24m492    0.112  \n",
      "\u001b[90m10\u001b[39m Yes                  0             1               0 Fair     \u001b[4m7\u001b[24m329    0.056\u001b[4m7\u001b[24m \n",
      "\u001b[90m# ℹ 208 more rows\u001b[39m\n"
     ]
    }
   ],
   "source": [
    "general_health_summary <- specific_conditions %>%\n",
    "  group_by(hlthpln1, stroke_binary, asthma_binary,diabetes_binary, genhlth) %>%\n",
    "  summarise(count = n(), .groups = 'drop') %>%\n",
    "  mutate(proportion = count / sum(count))\n",
    "\n",
    "print(general_health_summary)\n"
   ]
  },
  {
   "cell_type": "markdown",
   "metadata": {},
   "source": [
    "In the provided code, the `proportion` represents the relative frequency of each category of general health status within the subgroups defined by healthcare access and specific chronic conditions. Specifically, it tells you what percentage of the subgroup (people with a particular combination of healthcare access and chronic condition(s)) falls into each health status category.\n",
    "\n",
    "Here's a breakdown of what happens:\n",
    "\n",
    "1. **Grouping**: The data is grouped by healthcare access, chronic conditions, and health status (either general or mental). This creates subsets of the data based on these categories.\n",
    "\n",
    "2. **Counting**: Within each subgroup, the code counts the number of individuals (`count = n()`) that fall into each health status category.\n",
    "\n",
    "3. **Calculating Proportions**: The code then calculates the proportion of individuals in each health status category relative to the total number of individuals in that subgroup. It's done by dividing the count of individuals in each category by the total count of individuals in that subgroup (`proportion = count / sum(count)`).\n",
    "\n",
    "Here's what the `proportion` specifically represents in different parts of the summary:\n",
    "\n",
    "- **Across Healthcare Access**: For each level of healthcare access, it shows the distribution of health status among those with specific chronic conditions. For instance, what percentage of people with a certain level of healthcare access and a particular chronic condition report their general health as 'excellent', 'good', 'fair', etc.\n",
    "\n",
    "- **Across Chronic Conditions**: For each specified chronic condition, it shows how health status distribution varies. For example, among people with chronic_condition1, what proportion reports 'good' mental health?\n",
    "\n",
    "This approach helps to understand not just the raw numbers but the relative distribution, which is essential for making fair comparisons, especially when subgroup sizes vary significantly. The proportions are particularly useful for identifying patterns, such as whether certain health statuses are more common in specific subgroups, or if some groups have better or worse health outcomes than others."
   ]
  },
  {
   "cell_type": "code",
   "execution_count": 5,
   "metadata": {
    "vscode": {
     "languageId": "r"
    }
   },
   "outputs": [
    {
     "data": {
      "text/html": [
       "<table class=\"dataframe\">\n",
       "<caption>A data.frame: 6 × 3</caption>\n",
       "<thead>\n",
       "\t<tr><th></th><th scope=col>genhlth</th><th scope=col>genhlth_factor</th><th scope=col>genhlth_numeric</th></tr>\n",
       "\t<tr><th></th><th scope=col>&lt;fct&gt;</th><th scope=col>&lt;ord&gt;</th><th scope=col>&lt;int&gt;</th></tr>\n",
       "</thead>\n",
       "<tbody>\n",
       "\t<tr><th scope=row>1</th><td>Fair     </td><td>Fair</td><td> 4</td></tr>\n",
       "\t<tr><th scope=row>2</th><td>Good     </td><td>Good</td><td> 3</td></tr>\n",
       "\t<tr><th scope=row>3</th><td>Fair     </td><td>Fair</td><td> 4</td></tr>\n",
       "\t<tr><th scope=row>4</th><td>Good     </td><td>Good</td><td> 3</td></tr>\n",
       "\t<tr><th scope=row>5</th><td>Fair     </td><td>Fair</td><td> 4</td></tr>\n",
       "\t<tr><th scope=row>6</th><td>Very good</td><td>NA  </td><td>NA</td></tr>\n",
       "</tbody>\n",
       "</table>\n"
      ],
      "text/latex": [
       "A data.frame: 6 × 3\n",
       "\\begin{tabular}{r|lll}\n",
       "  & genhlth & genhlth\\_factor & genhlth\\_numeric\\\\\n",
       "  & <fct> & <ord> & <int>\\\\\n",
       "\\hline\n",
       "\t1 & Fair      & Fair &  4\\\\\n",
       "\t2 & Good      & Good &  3\\\\\n",
       "\t3 & Fair      & Fair &  4\\\\\n",
       "\t4 & Good      & Good &  3\\\\\n",
       "\t5 & Fair      & Fair &  4\\\\\n",
       "\t6 & Very good & NA   & NA\\\\\n",
       "\\end{tabular}\n"
      ],
      "text/markdown": [
       "\n",
       "A data.frame: 6 × 3\n",
       "\n",
       "| <!--/--> | genhlth &lt;fct&gt; | genhlth_factor &lt;ord&gt; | genhlth_numeric &lt;int&gt; |\n",
       "|---|---|---|---|\n",
       "| 1 | Fair      | Fair |  4 |\n",
       "| 2 | Good      | Good |  3 |\n",
       "| 3 | Fair      | Fair |  4 |\n",
       "| 4 | Good      | Good |  3 |\n",
       "| 5 | Fair      | Fair |  4 |\n",
       "| 6 | Very good | NA   | NA |\n",
       "\n"
      ],
      "text/plain": [
       "  genhlth   genhlth_factor genhlth_numeric\n",
       "1 Fair      Fair            4             \n",
       "2 Good      Good            3             \n",
       "3 Fair      Fair            4             \n",
       "4 Good      Good            3             \n",
       "5 Fair      Fair            4             \n",
       "6 Very good NA             NA             "
      ]
     },
     "metadata": {},
     "output_type": "display_data"
    }
   ],
   "source": [
    "specific_conditions$genhlth_factor <- factor(specific_conditions$genhlth, \n",
    "                                   levels = c(\"Excellent\", \"Very Good\", \"Good\", \"Fair\", \"Poor\"), \n",
    "                                   ordered = TRUE)\n",
    "specific_conditions$genhlth_numeric <- as.integer(specific_conditions$genhlth_factor)\n",
    "head(specific_conditions[, c(\"genhlth\", \"genhlth_factor\", \"genhlth_numeric\")])\n"
   ]
  },
  {
   "cell_type": "markdown",
   "metadata": {},
   "source": [
    "**Visualization**: For visualization, we are going to use a violin plot, which is a method of plotting numeric data and can be seen as a combination of a box plot and a kernel density plot. It provides a deeper understanding of the distribution of the data. Here's how violin plots work and what they represent:\n",
    "\n",
    "### 1. **Shape and Structure**:\n",
    "- **Kernel Density Estimation (KDE)**: The outer shape of a violin plot is created using KDE, which is a way to estimate the probability density function of a continuous random variable. Essentially, it smooths out the frequency of data points along the range of the variable to show the distribution shape.\n",
    "- **Mirrored**: The KDE is mirrored on both sides of a central axis, forming the shape of a violin. This mirroring makes it easier to compare the distribution between different groups or categories side-by-side.\n",
    "\n",
    "### 2. **Box Plot Elements**:\n",
    "- Inside the violin, you'll often see a miniature box plot or markers indicating the interquartile range (IQR) and the median of the data.\n",
    "  - **Median**: A line or point inside the violin indicates where the median of the data lies.\n",
    "  - **Interquartile Range (IQR)**: Some violin plots also include a box or lines showing the IQR, representing the middle 50% of the data (between the 25th and 75th percentiles).\n",
    "\n",
    "### 3. **Density**:\n",
    "- The width of the violin at different values indicates the density of the data at that value. Wider sections of the violin represent a higher density of data points (i.e., more data points fall around that value), while narrower sections indicate lower density.\n",
    "- Peaks in the violin plot show where the data are most concentrated.\n",
    "\n",
    "### 4. **Comparisons**:\n",
    "- Violin plots are particularly useful for comparing the distribution of data across categories. By placing violins for different groups or conditions side by side, you can compare the overall shape and spread of data, as well as the central tendency.\n",
    "\n",
    "### 5. **Advantages Over Box Plots**:\n",
    "- While box plots show basic statistics like median and IQR, they don't show the shape of the distribution. Violin plots provide more information by showing the distribution's density and the presence of multiple modes (peaks).\n",
    "- They are especially useful when the data distribution is multimodal (where there are multiple peaks).\n",
    "\n",
    "### 6. **Considerations**:\n",
    "- **Interpretation**: While informative, violin plots can be more complex to interpret than simpler plots like box plots. It's important for the audience to understand what the shapes and widths represent.\n",
    "- **Outliers**: Unlike box plots, standard violin plots do not inherently display outliers, though they may show long tails indicating the range of the data.\n",
    "- **Sample Size**: The accuracy of the KDE depends on the sample size. Small sample sizes might produce misleading shapes."
   ]
  },
  {
   "cell_type": "code",
   "execution_count": 14,
   "metadata": {
    "vscode": {
     "languageId": "r"
    }
   },
   "outputs": [
    {
     "name": "stderr",
     "output_type": "stream",
     "text": [
      "Warning message:\n",
      "“\u001b[1m\u001b[22mRemoved 28927 rows containing non-finite values (`stat_ydensity()`).”\n"
     ]
    }
   ],
   "source": [
    "p3 <- ggplot(specific_conditions, aes(x = hlthpln1, y = genhlth_numeric, fill = SpecificCondition)) +\n",
    "  geom_violin() +\n",
    "  scale_y_continuous(breaks = 1:5, labels = c(\"Poor\", \"Fair\", \"Good\", \"Very Good\", \"Excellent\")) +\n",
    "  labs(title = \"Distribution of General Health Status by Healthcare Access\",\n",
    "       x = \"Healthcare Access\",\n",
    "       y = \"General Health Status\") +\n",
    "  scale_fill_brewer(palette = \"Pastel2\")\n",
    "\n",
    "  ggsave(\"plot3.png\", plot = p3, width = 20, height = 15, units = \"in\")"
   ]
  },
  {
   "cell_type": "markdown",
   "metadata": {},
   "source": [
    "![Research Question 3 Visualization](plot3.png)\n"
   ]
  },
  {
   "cell_type": "markdown",
   "metadata": {},
   "source": [
    "\n",
    "**Interpretation:**\n",
    "It seems that individuals with 'Asthma' or 'Diabetes' show a varied distribution that includes a broader representation of 'Good' and 'Very Good' mental health statuses regardless of general health.  It would be prudent to explore the data further, possibly with additional statistical analysis, to understand the underlying factors contributing to these patterns.\n"
   ]
  }
 ],
 "metadata": {
  "kernelspec": {
   "display_name": "R",
   "language": "R",
   "name": "ir"
  },
  "language_info": {
   "codemirror_mode": "r",
   "file_extension": ".r",
   "mimetype": "text/x-r-source",
   "name": "R",
   "pygments_lexer": "r",
   "version": "4.1.2"
  }
 },
 "nbformat": 4,
 "nbformat_minor": 2
}
