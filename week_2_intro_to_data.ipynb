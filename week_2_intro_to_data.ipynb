{
 "cells": [
  {
   "cell_type": "markdown",
   "metadata": {},
   "source": [
    "# Introduction to data\n",
    "### Statistics with R\n",
    "#### Duke University (Coursera)"
   ]
  },
  {
   "cell_type": "markdown",
   "metadata": {},
   "source": [
    "Complete all **Exercises**, and submit answers to **Questions** on the\n",
    "Coursera platform.\n",
    "\n",
    "Some define statistics as the field that focuses on turning information\n",
    "into knowledge. The first step in that process is to summarize and\n",
    "describe the raw information - the data. In this lab we explore flights,\n",
    "specifically a random sample of domestic flights that departed from the\n",
    "three major New York City airport in 2013. We will generate simple\n",
    "graphical and numerical summaries of data on these flights and explore\n",
    "delay times. As this is a large data set, along the way you'll also\n",
    "learn the indispensable skills of data processing and subsetting.\n",
    "\n",
    "## Getting started\n",
    "\n",
    "### Load packages\n",
    "\n",
    "In this lab we will explore the data using the `dplyr` package and\n",
    "visualize it using the `ggplot2` package for data visualization. The\n",
    "data can be found in the companion package for this course, `statsr`.\n",
    "\n",
    "Let's load the packages."
   ]
  },
  {
   "cell_type": "code",
   "execution_count": null,
   "metadata": {
    "vscode": {
     "languageId": "r"
    }
   },
   "outputs": [],
   "source": [
    "library(statsr)\n",
    "library(dplyr)\n",
    "library(ggplot2)\n"
   ]
  },
  {
   "cell_type": "markdown",
   "metadata": {},
   "source": [
    "### Data\n",
    "\n",
    "The [Bureau of Transportation\n",
    "Statistics](http://www.rita.dot.gov/bts/about/) (BTS) is a statistical\n",
    "agency that is a part of the Research and Innovative Technology\n",
    "Administration (RITA). As its name implies, BTS collects and makes\n",
    "available transportation data, such as the flights data we will be\n",
    "working with in this lab.\n",
    "\n",
    "We begin by loading the `nycflights` data frame. Type the following in\n",
    "your console to load the data:"
   ]
  },
  {
   "cell_type": "code",
   "execution_count": 3,
   "metadata": {
    "vscode": {
     "languageId": "r"
    }
   },
   "outputs": [],
   "source": [
    "data(nycflights)"
   ]
  },
  {
   "cell_type": "markdown",
   "metadata": {},
   "source": [
    "The data frame containing `r nrow(nycflights)` flights that shows up in\n",
    "your workspace is a *data matrix*, with each row representing an\n",
    "*observation* and each column representing a *variable*. R calls this\n",
    "data format a **data frame**, which is a term that will be used\n",
    "throughout the labs.\n",
    "\n",
    "To view the names of the variables, type the command\n"
   ]
  },
  {
   "cell_type": "code",
   "execution_count": 5,
   "metadata": {
    "vscode": {
     "languageId": "r"
    }
   },
   "outputs": [
    {
     "data": {
      "text/html": [
       "<style>\n",
       ".list-inline {list-style: none; margin:0; padding: 0}\n",
       ".list-inline>li {display: inline-block}\n",
       ".list-inline>li:not(:last-child)::after {content: \"\\00b7\"; padding: 0 .5ex}\n",
       "</style>\n",
       "<ol class=list-inline><li>'year'</li><li>'month'</li><li>'day'</li><li>'dep_time'</li><li>'dep_delay'</li><li>'arr_time'</li><li>'arr_delay'</li><li>'carrier'</li><li>'tailnum'</li><li>'flight'</li><li>'origin'</li><li>'dest'</li><li>'air_time'</li><li>'distance'</li><li>'hour'</li><li>'minute'</li></ol>\n"
      ],
      "text/latex": [
       "\\begin{enumerate*}\n",
       "\\item 'year'\n",
       "\\item 'month'\n",
       "\\item 'day'\n",
       "\\item 'dep\\_time'\n",
       "\\item 'dep\\_delay'\n",
       "\\item 'arr\\_time'\n",
       "\\item 'arr\\_delay'\n",
       "\\item 'carrier'\n",
       "\\item 'tailnum'\n",
       "\\item 'flight'\n",
       "\\item 'origin'\n",
       "\\item 'dest'\n",
       "\\item 'air\\_time'\n",
       "\\item 'distance'\n",
       "\\item 'hour'\n",
       "\\item 'minute'\n",
       "\\end{enumerate*}\n"
      ],
      "text/markdown": [
       "1. 'year'\n",
       "2. 'month'\n",
       "3. 'day'\n",
       "4. 'dep_time'\n",
       "5. 'dep_delay'\n",
       "6. 'arr_time'\n",
       "7. 'arr_delay'\n",
       "8. 'carrier'\n",
       "9. 'tailnum'\n",
       "10. 'flight'\n",
       "11. 'origin'\n",
       "12. 'dest'\n",
       "13. 'air_time'\n",
       "14. 'distance'\n",
       "15. 'hour'\n",
       "16. 'minute'\n",
       "\n",
       "\n"
      ],
      "text/plain": [
       " [1] \"year\"      \"month\"     \"day\"       \"dep_time\"  \"dep_delay\" \"arr_time\" \n",
       " [7] \"arr_delay\" \"carrier\"   \"tailnum\"   \"flight\"    \"origin\"    \"dest\"     \n",
       "[13] \"air_time\"  \"distance\"  \"hour\"      \"minute\"   "
      ]
     },
     "metadata": {},
     "output_type": "display_data"
    }
   ],
   "source": [
    "names(nycflights)"
   ]
  },
  {
   "cell_type": "markdown",
   "metadata": {},
   "source": [
    "This returns the names of the variables in this data frame. The\n",
    "**codebook** (description of the variables) is included below. This\n",
    "information can also be found in the help file for the data frame which\n",
    "can be accessed by typing `?nycflights` in the console.\n",
    "\n",
    "-   `year`, `month`, `day`: Date of departure\n",
    "-   `dep_time`, `arr_time`: Departure and arrival times, local timezone.\n",
    "-   `dep_delay`, `arr_delay`: Departure and arrival delays, in minutes.\n",
    "    Negative times represent early departures/arrivals.\n",
    "-   `carrier`: Two letter carrier abbreviation.\n",
    "-   `9E`: Endeavor Air Inc.\n",
    "-   `AA`: American Airlines Inc.\n",
    "-   `AS`: Alaska Airlines Inc.\n",
    "-   `B6`: JetBlue Airways\n",
    "-   `DL`: Delta Air Lines Inc.\n",
    "-   `EV`: ExpressJet Airlines Inc.\n",
    "-   `F9`: Frontier Airlines Inc.\n",
    "-   `FL`: AirTran Airways Corporation\n",
    "-   `HA`: Hawaiian Airlines Inc.\n",
    "-   `MQ`: Envoy Air\n",
    "-   `OO`: SkyWest Airlines Inc.\n",
    "-   `UA`: United Air Lines Inc.\n",
    "-   `US`: US Airways Inc.\n",
    "-   `VX`: Virgin America\n",
    "-   `WN`: Southwest Airlines Co.\n",
    "-   `YV`: Mesa Airlines Inc.\n",
    "-   `tailnum`: Plane tail number\n",
    "-   `flight`: Flight number\n",
    "-   `origin`, `dest`: Airport codes for origin and destination. (Google\n",
    "    can help you with what code stands for which airport.)\n",
    "-   `air_time`: Amount of time spent in the air, in minutes.\n",
    "-   `distance`: Distance flown, in miles.\n",
    "-   `hour`, `minute`: Time of departure broken in to hour and minutes.\n",
    "\n",
    "A very useful function for taking a quick peek at your data frame, and\n",
    "viewing its dimensions and data types is `str`, which stands for\n",
    "**str**ucture.\n"
   ]
  },
  {
   "cell_type": "code",
   "execution_count": 6,
   "metadata": {
    "vscode": {
     "languageId": "r"
    }
   },
   "outputs": [
    {
     "name": "stdout",
     "output_type": "stream",
     "text": [
      "tibble [32,735 × 16] (S3: tbl_df/data.frame)\n",
      " $ year     : int [1:32735] 2013 2013 2013 2013 2013 2013 2013 2013 2013 2013 ...\n",
      " $ month    : int [1:32735] 6 5 12 5 7 1 12 8 9 4 ...\n",
      " $ day      : int [1:32735] 30 7 8 14 21 1 9 13 26 30 ...\n",
      " $ dep_time : int [1:32735] 940 1657 859 1841 1102 1817 1259 1920 725 1323 ...\n",
      " $ dep_delay: num [1:32735] 15 -3 -1 -4 -3 -3 14 85 -10 62 ...\n",
      " $ arr_time : int [1:32735] 1216 2104 1238 2122 1230 2008 1617 2032 1027 1549 ...\n",
      " $ arr_delay: num [1:32735] -4 10 11 -34 -8 3 22 71 -8 60 ...\n",
      " $ carrier  : chr [1:32735] \"VX\" \"DL\" \"DL\" \"DL\" ...\n",
      " $ tailnum  : chr [1:32735] \"N626VA\" \"N3760C\" \"N712TW\" \"N914DL\" ...\n",
      " $ flight   : int [1:32735] 407 329 422 2391 3652 353 1428 1407 2279 4162 ...\n",
      " $ origin   : chr [1:32735] \"JFK\" \"JFK\" \"JFK\" \"JFK\" ...\n",
      " $ dest     : chr [1:32735] \"LAX\" \"SJU\" \"LAX\" \"TPA\" ...\n",
      " $ air_time : num [1:32735] 313 216 376 135 50 138 240 48 148 110 ...\n",
      " $ distance : num [1:32735] 2475 1598 2475 1005 296 ...\n",
      " $ hour     : num [1:32735] 9 16 8 18 11 18 12 19 7 13 ...\n",
      " $ minute   : num [1:32735] 40 57 59 41 2 17 59 20 25 23 ...\n"
     ]
    }
   ],
   "source": [
    "str(nycflights)"
   ]
  },
  {
   "cell_type": "code",
   "execution_count": 7,
   "metadata": {
    "vscode": {
     "languageId": "r"
    }
   },
   "outputs": [
    {
     "data": {
      "text/html": [
       "<style>\n",
       ".list-inline {list-style: none; margin:0; padding: 0}\n",
       ".list-inline>li {display: inline-block}\n",
       ".list-inline>li:not(:last-child)::after {content: \"\\00b7\"; padding: 0 .5ex}\n",
       "</style>\n",
       "<ol class=list-inline><li>32735</li><li>16</li></ol>\n"
      ],
      "text/latex": [
       "\\begin{enumerate*}\n",
       "\\item 32735\n",
       "\\item 16\n",
       "\\end{enumerate*}\n"
      ],
      "text/markdown": [
       "1. 32735\n",
       "2. 16\n",
       "\n",
       "\n"
      ],
      "text/plain": [
       "[1] 32735    16"
      ]
     },
     "metadata": {},
     "output_type": "display_data"
    }
   ],
   "source": [
    "dim(nycflights)"
   ]
  },
  {
   "cell_type": "markdown",
   "metadata": {},
   "source": [
    "The `nycflights` data frame is a massive trove of information. Let's\n",
    "think about some questions we might want to answer with these data:\n",
    "\n",
    "-   We might want to find out how delayed flights headed to a particular\n",
    "    destination tend to be.\n",
    "-   We might want to evaluate how departure delays vary over months.\n",
    "-   Or we might want to determine which of the three major NYC airports\n",
    "    has a better on time percentage for departing flights.\n",
    "\n",
    "### Seven verbs\n",
    "\n",
    "The `dplyr` package offers seven verbs (functions) for basic data\n",
    "manipulation:\n",
    "\n",
    "-   `filter()`\n",
    "-   `arrange()`\n",
    "-   `select()`\n",
    "-   `distinct()`\n",
    "-   `mutate()`\n",
    "-   `summarise()`\n",
    "-   `sample_n()`\n",
    "\n",
    "We will use some of these functions in this lab, and learn about others\n",
    "in a future lab.\n",
    "\n",
    "## Analysis\n",
    "\n",
    "### Departure delays in flights to Raleigh-Durham (RDU)\n",
    "\n",
    "We can examine the distribution of departure delays of all flights with\n",
    "a histogram."
   ]
  },
  {
   "cell_type": "code",
   "execution_count": 8,
   "metadata": {
    "vscode": {
     "languageId": "r"
    }
   },
   "outputs": [
    {
     "name": "stderr",
     "output_type": "stream",
     "text": [
      "\u001b[1m\u001b[22m`stat_bin()` using `bins = 30`. Pick better value with `binwidth`.\n"
     ]
    },
    {
     "data": {
      "image/png": "[encoded data removed]",
      "text/plain": [
       "plot without title"
      ]
     },
     "metadata": {
      "image/png": {
       "height": 420,
       "width": 420
      }
     },
     "output_type": "display_data"
    }
   ],
   "source": [
    "ggplot(data = nycflights, aes(x = dep_delay)) +\n",
    "  geom_histogram()"
   ]
  },
  {
   "cell_type": "markdown",
   "metadata": {},
   "source": [
    "This function says to plot the `dep_delay` variable from the\n",
    "`nycflights` data frame on the x-axis. It also defines a `geom` (short\n",
    "for geometric object), which describes the type of plot you will\n",
    "produce.\n",
    "\n",
    "Histograms are generally a very good way to see the shape of a single\n",
    "distribution, but that shape can change depending on how the data is\n",
    "split between the different bins. You can easily define the binwidth you\n",
    "want to use:"
   ]
  },
  {
   "cell_type": "code",
   "execution_count": 9,
   "metadata": {
    "vscode": {
     "languageId": "r"
    }
   },
   "outputs": [
    {
     "data": {
      "image/png": "[encoded data removed]",
      "text/plain": [
       "plot without title"
      ]
     },
     "metadata": {
      "image/png": {
       "height": 420,
       "width": 420
      }
     },
     "output_type": "display_data"
    },
    {
     "data": {
      "image/png": "[encoded data removed]",
      "text/plain": [
       "plot without title"
      ]
     },
     "metadata": {
      "image/png": {
       "height": 420,
       "width": 420
      }
     },
     "output_type": "display_data"
    }
   ],
   "source": [
    "ggplot(data = nycflights, aes(x = dep_delay)) +\n",
    "  geom_histogram(binwidth = 15)\n",
    "ggplot(data = nycflights, aes(x = dep_delay)) +\n",
    "  geom_histogram(binwidth = 150)"
   ]
  },
  {
   "cell_type": "markdown",
   "metadata": {},
   "source": [
    "**Exercise**: How do these three histograms with the various binwidths\n",
    "compare?\n",
    "\n",
    "##### Narrow Bin Widths\n",
    "\n",
    "-   **Detail**: Reveals more subtleties in the data distribution.\n",
    "-   **Variability**: Highlights outliers and small-scale patterns.\n",
    "-   **Noise**: May overemphasize random noise or minor fluctuations.\n",
    "-   **Complexity**: Can be complex and harder to interpret, especially\n",
    "    for large datasets.\n",
    "\n",
    "##### Moderate Bin Widths\n",
    "\n",
    "-   **Balance**: Offers a balanced view, preserving overall shape while\n",
    "    smoothing out noise.\n",
    "-   **Clarity**: Generally easier to interpret.\n",
    "-   **General Trends**: Good for identifying major trends in the data.\n",
    "-   **Suitability**: Often the best starting point for exploratory data\n",
    "    analysis.\n",
    "\n",
    "##### Wide Bin Widths\n",
    "\n",
    "-   **Simplicity**: Simplifies the presentation, showing broad trends.\n",
    "-   **Over-Smoothing**: Risks obscuring important details and nuances.\n",
    "-   **Underlying Shape**: Useful for identifying basic distribution\n",
    "    shapes (e.g., unimodal, bimodal).\n",
    "-   **Large-scale Patterns**: Best for highlighting large-scale patterns\n",
    "    and filtering out small fluctuations.\n",
    "\n",
    "##### Conclusion\n",
    "\n",
    "The choice of bin width in a histogram should be guided by the context\n",
    "and purpose of the analysis. It's often beneficial to examine histograms\n",
    "with multiple bin widths for a comprehensive understanding of the data.\n",
    "\n",
    "If we want to focus on departure delays of flights headed to RDU only,\n",
    "we need to first `filter` the data for flights headed to RDU\n",
    "(`dest == \"RDU\"`) and then make a histogram of only departure delays of\n",
    "only those flights.\n"
   ]
  },
  {
   "cell_type": "code",
   "execution_count": 10,
   "metadata": {
    "vscode": {
     "languageId": "r"
    }
   },
   "outputs": [
    {
     "name": "stderr",
     "output_type": "stream",
     "text": [
      "\u001b[1m\u001b[22m`stat_bin()` using `bins = 30`. Pick better value with `binwidth`.\n"
     ]
    },
    {
     "data": {
      "image/png": "[encoded data removed]",
      "text/plain": [
       "plot without title"
      ]
     },
     "metadata": {
      "image/png": {
       "height": 420,
       "width": 420
      }
     },
     "output_type": "display_data"
    }
   ],
   "source": [
    "rdu_flights <- nycflights %>%\n",
    "  filter(dest == \"RDU\")\n",
    "ggplot(data = rdu_flights, aes(x = dep_delay)) +\n",
    "  geom_histogram()"
   ]
  },
  {
   "cell_type": "markdown",
   "metadata": {},
   "source": [
    "Let's decipher these three lines of code:\n",
    "\n",
    "-   Line 1: Take the `nycflights` data frame, `filter` for flights\n",
    "    headed to RDU, and save the result as a new data frame called\n",
    "    `rdu_flights`.\n",
    "-   `==` means \"if it's equal to\".\n",
    "-   `RDU` is in quotation marks since it is a character string.\n",
    "-   Line 2: Basically the same `ggplot` call from earlier for making a\n",
    "    histogram, except that it uses the data frame for flights headed to\n",
    "    RDU instead of all flights.\n",
    "\n",
    "**Logical operators:** Filtering for certain observations (e.g. flights\n",
    "from a particular airport) is often of interest in data frames where we\n",
    "might want to examine observations with certain characteristics\n",
    "separately from the rest of the data. To do so we use the `filter`\n",
    "function and a series of **logical operators**. The most commonly used\n",
    "logical operators for data analysis are as follows:\n",
    "\n",
    "-   `==` means \"equal to\"\n",
    "-   `!=` means \"not equal to\"\n",
    "-   `>` or `<` means \"greater than\" or \"less than\"\n",
    "-   `>=` or `<=` means \"greater than or equal to\" or \"less than or equal\n",
    "    to\"\n",
    "\n",
    "We can also obtain numerical summaries for these flights:"
   ]
  },
  {
   "cell_type": "code",
   "execution_count": 11,
   "metadata": {
    "vscode": {
     "languageId": "r"
    }
   },
   "outputs": [
    {
     "data": {
      "text/html": [
       "<table class=\"dataframe\">\n",
       "<caption>A tibble: 1 × 3</caption>\n",
       "<thead>\n",
       "\t<tr><th scope=col>mean_dd</th><th scope=col>sd_dd</th><th scope=col>n</th></tr>\n",
       "\t<tr><th scope=col>&lt;dbl&gt;</th><th scope=col>&lt;dbl&gt;</th><th scope=col>&lt;int&gt;</th></tr>\n",
       "</thead>\n",
       "<tbody>\n",
       "\t<tr><td>11.69913</td><td>35.55567</td><td>801</td></tr>\n",
       "</tbody>\n",
       "</table>\n"
      ],
      "text/latex": [
       "A tibble: 1 × 3\n",
       "\\begin{tabular}{lll}\n",
       " mean\\_dd & sd\\_dd & n\\\\\n",
       " <dbl> & <dbl> & <int>\\\\\n",
       "\\hline\n",
       "\t 11.69913 & 35.55567 & 801\\\\\n",
       "\\end{tabular}\n"
      ],
      "text/markdown": [
       "\n",
       "A tibble: 1 × 3\n",
       "\n",
       "| mean_dd &lt;dbl&gt; | sd_dd &lt;dbl&gt; | n &lt;int&gt; |\n",
       "|---|---|---|\n",
       "| 11.69913 | 35.55567 | 801 |\n",
       "\n"
      ],
      "text/plain": [
       "  mean_dd  sd_dd    n  \n",
       "1 11.69913 35.55567 801"
      ]
     },
     "metadata": {},
     "output_type": "display_data"
    }
   ],
   "source": [
    "rdu_flights %>%\n",
    "summarise(mean_dd = mean(dep_delay), sd_dd = sd(dep_delay), n = n())"
   ]
  },
  {
   "cell_type": "markdown",
   "metadata": {},
   "source": [
    "Note that in the `summarise` function we created a list of two elements.\n",
    "The names of these elements are user defined, like `mean_dd`, `sd_dd`,\n",
    "`n`, and you could customize these names as you like (just don't use\n",
    "spaces in your names). Calculating these summary statistics also require\n",
    "that you know the function calls. Note that `n()` reports the sample\n",
    "size.\n",
    "\n",
    "\n",
    "**Summary statistics:** Some useful function calls for summary\n",
    "statistics for a single numerical variable are as follows:\n",
    "\n",
    "-   `mean`\n",
    "-   `median`\n",
    "-   `sd`\n",
    "-   `var`\n",
    "-   `IQR`\n",
    "-   `range`\n",
    "-   `min`\n",
    "-   `max`\n",
    "\n",
    "\n",
    "We can also filter based on multiple criteria. Suppose we are interested\n",
    "in flights headed to San Francisco (SFO) in February:\n",
    "\n",
    "Note that we can separate the conditions using commas if we want flights\n",
    "that are both headed to SFO **and** in February. If we are interested in\n",
    "either flights headed to SFO **or** in February we can use the `|`\n",
    "instead of the comma.\n",
    "\n",
    "1.  Create a new data frame that includes flights headed to SFO in\n",
    "    February, and save this data frame as `sfo_feb_flights`. How many\n",
    "    flights meet these criteria?\n",
    "\n",
    "    <ol>\n",
    "\n",
    "    <li style=\"color: green;\">68</li>\n",
    "\n",
    "    <li>1345</li>\n",
    "\n",
    "    <li>2286</li>\n",
    "\n",
    "    <li>3563</li>\n",
    "\n",
    "    <li>32735</li>\n",
    "\n",
    "    </ol>\n"
   ]
  },
  {
   "cell_type": "code",
   "execution_count": 14,
   "metadata": {
    "vscode": {
     "languageId": "r"
    }
   },
   "outputs": [
    {
     "data": {
      "text/html": [
       "<table class=\"dataframe\">\n",
       "<caption>A tibble: 5 × 16</caption>\n",
       "<thead>\n",
       "\t<tr><th scope=col>year</th><th scope=col>month</th><th scope=col>day</th><th scope=col>dep_time</th><th scope=col>dep_delay</th><th scope=col>arr_time</th><th scope=col>arr_delay</th><th scope=col>carrier</th><th scope=col>tailnum</th><th scope=col>flight</th><th scope=col>origin</th><th scope=col>dest</th><th scope=col>air_time</th><th scope=col>distance</th><th scope=col>hour</th><th scope=col>minute</th></tr>\n",
       "\t<tr><th scope=col>&lt;int&gt;</th><th scope=col>&lt;int&gt;</th><th scope=col>&lt;int&gt;</th><th scope=col>&lt;int&gt;</th><th scope=col>&lt;dbl&gt;</th><th scope=col>&lt;int&gt;</th><th scope=col>&lt;dbl&gt;</th><th scope=col>&lt;chr&gt;</th><th scope=col>&lt;chr&gt;</th><th scope=col>&lt;int&gt;</th><th scope=col>&lt;chr&gt;</th><th scope=col>&lt;chr&gt;</th><th scope=col>&lt;dbl&gt;</th><th scope=col>&lt;dbl&gt;</th><th scope=col>&lt;dbl&gt;</th><th scope=col>&lt;dbl&gt;</th></tr>\n",
       "</thead>\n",
       "<tbody>\n",
       "\t<tr><td>2013</td><td>2</td><td>18</td><td>1527</td><td>57</td><td>1903</td><td> 48</td><td>DL</td><td>N711ZX</td><td>1322</td><td>JFK</td><td>SFO</td><td>358</td><td>2586</td><td>15</td><td>27</td></tr>\n",
       "\t<tr><td>2013</td><td>2</td><td> 3</td><td> 613</td><td>14</td><td>1008</td><td> 38</td><td>UA</td><td>N502UA</td><td> 691</td><td>JFK</td><td>SFO</td><td>367</td><td>2586</td><td> 6</td><td>13</td></tr>\n",
       "\t<tr><td>2013</td><td>2</td><td>15</td><td> 955</td><td>-5</td><td>1313</td><td>-28</td><td>DL</td><td>N717TW</td><td>1765</td><td>JFK</td><td>SFO</td><td>338</td><td>2586</td><td> 9</td><td>55</td></tr>\n",
       "\t<tr><td>2013</td><td>2</td><td>18</td><td>1928</td><td>15</td><td>2239</td><td> -6</td><td>UA</td><td>N24212</td><td>1214</td><td>EWR</td><td>SFO</td><td>353</td><td>2565</td><td>19</td><td>28</td></tr>\n",
       "\t<tr><td>2013</td><td>2</td><td>24</td><td>1340</td><td> 2</td><td>1644</td><td>-21</td><td>UA</td><td>N76269</td><td>1111</td><td>EWR</td><td>SFO</td><td>341</td><td>2565</td><td>13</td><td>40</td></tr>\n",
       "</tbody>\n",
       "</table>\n"
      ],
      "text/latex": [
       "A tibble: 5 × 16\n",
       "\\begin{tabular}{llllllllllllllll}\n",
       " year & month & day & dep\\_time & dep\\_delay & arr\\_time & arr\\_delay & carrier & tailnum & flight & origin & dest & air\\_time & distance & hour & minute\\\\\n",
       " <int> & <int> & <int> & <int> & <dbl> & <int> & <dbl> & <chr> & <chr> & <int> & <chr> & <chr> & <dbl> & <dbl> & <dbl> & <dbl>\\\\\n",
       "\\hline\n",
       "\t 2013 & 2 & 18 & 1527 & 57 & 1903 &  48 & DL & N711ZX & 1322 & JFK & SFO & 358 & 2586 & 15 & 27\\\\\n",
       "\t 2013 & 2 &  3 &  613 & 14 & 1008 &  38 & UA & N502UA &  691 & JFK & SFO & 367 & 2586 &  6 & 13\\\\\n",
       "\t 2013 & 2 & 15 &  955 & -5 & 1313 & -28 & DL & N717TW & 1765 & JFK & SFO & 338 & 2586 &  9 & 55\\\\\n",
       "\t 2013 & 2 & 18 & 1928 & 15 & 2239 &  -6 & UA & N24212 & 1214 & EWR & SFO & 353 & 2565 & 19 & 28\\\\\n",
       "\t 2013 & 2 & 24 & 1340 &  2 & 1644 & -21 & UA & N76269 & 1111 & EWR & SFO & 341 & 2565 & 13 & 40\\\\\n",
       "\\end{tabular}\n"
      ],
      "text/markdown": [
       "\n",
       "A tibble: 5 × 16\n",
       "\n",
       "| year &lt;int&gt; | month &lt;int&gt; | day &lt;int&gt; | dep_time &lt;int&gt; | dep_delay &lt;dbl&gt; | arr_time &lt;int&gt; | arr_delay &lt;dbl&gt; | carrier &lt;chr&gt; | tailnum &lt;chr&gt; | flight &lt;int&gt; | origin &lt;chr&gt; | dest &lt;chr&gt; | air_time &lt;dbl&gt; | distance &lt;dbl&gt; | hour &lt;dbl&gt; | minute &lt;dbl&gt; |\n",
       "|---|---|---|---|---|---|---|---|---|---|---|---|---|---|---|---|\n",
       "| 2013 | 2 | 18 | 1527 | 57 | 1903 |  48 | DL | N711ZX | 1322 | JFK | SFO | 358 | 2586 | 15 | 27 |\n",
       "| 2013 | 2 |  3 |  613 | 14 | 1008 |  38 | UA | N502UA |  691 | JFK | SFO | 367 | 2586 |  6 | 13 |\n",
       "| 2013 | 2 | 15 |  955 | -5 | 1313 | -28 | DL | N717TW | 1765 | JFK | SFO | 338 | 2586 |  9 | 55 |\n",
       "| 2013 | 2 | 18 | 1928 | 15 | 2239 |  -6 | UA | N24212 | 1214 | EWR | SFO | 353 | 2565 | 19 | 28 |\n",
       "| 2013 | 2 | 24 | 1340 |  2 | 1644 | -21 | UA | N76269 | 1111 | EWR | SFO | 341 | 2565 | 13 | 40 |\n",
       "\n"
      ],
      "text/plain": [
       "  year month day dep_time dep_delay arr_time arr_delay carrier tailnum flight\n",
       "1 2013 2     18  1527     57        1903      48       DL      N711ZX  1322  \n",
       "2 2013 2      3   613     14        1008      38       UA      N502UA   691  \n",
       "3 2013 2     15   955     -5        1313     -28       DL      N717TW  1765  \n",
       "4 2013 2     18  1928     15        2239      -6       UA      N24212  1214  \n",
       "5 2013 2     24  1340      2        1644     -21       UA      N76269  1111  \n",
       "  origin dest air_time distance hour minute\n",
       "1 JFK    SFO  358      2586     15   27    \n",
       "2 JFK    SFO  367      2586      6   13    \n",
       "3 JFK    SFO  338      2586      9   55    \n",
       "4 EWR    SFO  353      2565     19   28    \n",
       "5 EWR    SFO  341      2565     13   40    "
      ]
     },
     "metadata": {},
     "output_type": "display_data"
    }
   ],
   "source": [
    "sfo_feb_flights <- nycflights %>%\n",
    "  filter(dest == \"SFO\", month == 2)\n",
    "head(sfo_feb_flights, 5)"
   ]
  },
  {
   "cell_type": "code",
   "execution_count": 15,
   "metadata": {
    "vscode": {
     "languageId": "r"
    }
   },
   "outputs": [
    {
     "data": {
      "text/html": [
       "<style>\n",
       ".list-inline {list-style: none; margin:0; padding: 0}\n",
       ".list-inline>li {display: inline-block}\n",
       ".list-inline>li:not(:last-child)::after {content: \"\\00b7\"; padding: 0 .5ex}\n",
       "</style>\n",
       "<ol class=list-inline><li>68</li><li>16</li></ol>\n"
      ],
      "text/latex": [
       "\\begin{enumerate*}\n",
       "\\item 68\n",
       "\\item 16\n",
       "\\end{enumerate*}\n"
      ],
      "text/markdown": [
       "1. 68\n",
       "2. 16\n",
       "\n",
       "\n"
      ],
      "text/plain": [
       "[1] 68 16"
      ]
     },
     "metadata": {},
     "output_type": "display_data"
    }
   ],
   "source": [
    "dim(sfo_feb_flights)"
   ]
  },
  {
   "cell_type": "markdown",
   "metadata": {},
   "source": [
    "2.  Make a histogram and calculate appropriate summary statistics for\n",
    "    **arrival** delays of `sfo_feb_flights`. Which of the following is\n",
    "    false?\n",
    "\n",
    "    <ol>\n",
    "\n",
    "    <li>The distribution is unimodal.</li>\n",
    "\n",
    "    <li>The distribution is right skewed.</li>\n",
    "\n",
    "    <li style=\"color: green;\">No flight is delayed more than 2 hours.</li>\n",
    "\n",
    "    <li>The distribution has several extreme values on the right\n",
    "    side.</li>\n",
    "\n",
    "    <li>More than 50% of flights arrive on time or earlier than\n",
    "    scheduled.</li>\n",
    "\n",
    "    </ol>"
   ]
  },
  {
   "cell_type": "code",
   "execution_count": 16,
   "metadata": {
    "vscode": {
     "languageId": "r"
    }
   },
   "outputs": [
    {
     "name": "stderr",
     "output_type": "stream",
     "text": [
      "\u001b[1m\u001b[22m`stat_bin()` using `bins = 30`. Pick better value with `binwidth`.\n"
     ]
    },
    {
     "data": {
      "image/png": "[encoded data removed]",
      "text/plain": [
       "plot without title"
      ]
     },
     "metadata": {
      "image/png": {
       "height": 420,
       "width": 420
      }
     },
     "output_type": "display_data"
    }
   ],
   "source": [
    "ggplot(data = sfo_feb_flights, aes(x = arr_delay)) +\n",
    "  geom_histogram()"
   ]
  },
  {
   "cell_type": "code",
   "execution_count": 17,
   "metadata": {
    "vscode": {
     "languageId": "r"
    }
   },
   "outputs": [
    {
     "data": {
      "text/html": [
       "<table class=\"dataframe\">\n",
       "<caption>A tibble: 1 × 3</caption>\n",
       "<thead>\n",
       "\t<tr><th scope=col>mean_dd</th><th scope=col>max</th><th scope=col>n</th></tr>\n",
       "\t<tr><th scope=col>&lt;dbl&gt;</th><th scope=col>&lt;dbl&gt;</th><th scope=col>&lt;int&gt;</th></tr>\n",
       "</thead>\n",
       "<tbody>\n",
       "\t<tr><td>-4.5</td><td>196</td><td>68</td></tr>\n",
       "</tbody>\n",
       "</table>\n"
      ],
      "text/latex": [
       "A tibble: 1 × 3\n",
       "\\begin{tabular}{lll}\n",
       " mean\\_dd & max & n\\\\\n",
       " <dbl> & <dbl> & <int>\\\\\n",
       "\\hline\n",
       "\t -4.5 & 196 & 68\\\\\n",
       "\\end{tabular}\n"
      ],
      "text/markdown": [
       "\n",
       "A tibble: 1 × 3\n",
       "\n",
       "| mean_dd &lt;dbl&gt; | max &lt;dbl&gt; | n &lt;int&gt; |\n",
       "|---|---|---|\n",
       "| -4.5 | 196 | 68 |\n",
       "\n"
      ],
      "text/plain": [
       "  mean_dd max n \n",
       "1 -4.5    196 68"
      ]
     },
     "metadata": {},
     "output_type": "display_data"
    }
   ],
   "source": [
    "sfo_feb_flights %>%\n",
    "summarise(mean_dd = mean(arr_delay), max = max(arr_delay), n = n())"
   ]
  },
  {
   "cell_type": "markdown",
   "metadata": {},
   "source": [
    "Another useful functionality is being able to quickly calculate summary\n",
    "statistics for various groups in your data frame. For example, we can\n",
    "modify the above command using the `group_by` function to get the same\n",
    "summary stats for each origin airport:"
   ]
  },
  {
   "cell_type": "code",
   "execution_count": 18,
   "metadata": {
    "vscode": {
     "languageId": "r"
    }
   },
   "outputs": [
    {
     "data": {
      "text/html": [
       "<table class=\"dataframe\">\n",
       "<caption>A tibble: 3 × 4</caption>\n",
       "<thead>\n",
       "\t<tr><th scope=col>origin</th><th scope=col>mean_dd</th><th scope=col>sd_dd</th><th scope=col>n</th></tr>\n",
       "\t<tr><th scope=col>&lt;chr&gt;</th><th scope=col>&lt;dbl&gt;</th><th scope=col>&lt;dbl&gt;</th><th scope=col>&lt;int&gt;</th></tr>\n",
       "</thead>\n",
       "<tbody>\n",
       "\t<tr><td>EWR</td><td>13.365517</td><td>32.08492</td><td>145</td></tr>\n",
       "\t<tr><td>JFK</td><td>15.396667</td><td>40.30535</td><td>300</td></tr>\n",
       "\t<tr><td>LGA</td><td> 7.904494</td><td>32.18620</td><td>356</td></tr>\n",
       "</tbody>\n",
       "</table>\n"
      ],
      "text/latex": [
       "A tibble: 3 × 4\n",
       "\\begin{tabular}{llll}\n",
       " origin & mean\\_dd & sd\\_dd & n\\\\\n",
       " <chr> & <dbl> & <dbl> & <int>\\\\\n",
       "\\hline\n",
       "\t EWR & 13.365517 & 32.08492 & 145\\\\\n",
       "\t JFK & 15.396667 & 40.30535 & 300\\\\\n",
       "\t LGA &  7.904494 & 32.18620 & 356\\\\\n",
       "\\end{tabular}\n"
      ],
      "text/markdown": [
       "\n",
       "A tibble: 3 × 4\n",
       "\n",
       "| origin &lt;chr&gt; | mean_dd &lt;dbl&gt; | sd_dd &lt;dbl&gt; | n &lt;int&gt; |\n",
       "|---|---|---|---|\n",
       "| EWR | 13.365517 | 32.08492 | 145 |\n",
       "| JFK | 15.396667 | 40.30535 | 300 |\n",
       "| LGA |  7.904494 | 32.18620 | 356 |\n",
       "\n"
      ],
      "text/plain": [
       "  origin mean_dd   sd_dd    n  \n",
       "1 EWR    13.365517 32.08492 145\n",
       "2 JFK    15.396667 40.30535 300\n",
       "3 LGA     7.904494 32.18620 356"
      ]
     },
     "metadata": {},
     "output_type": "display_data"
    }
   ],
   "source": [
    "rdu_flights %>%\n",
    "  group_by(origin) %>%\n",
    "  summarise(mean_dd = mean(dep_delay), sd_dd = sd(dep_delay), n = n())"
   ]
  },
  {
   "cell_type": "markdown",
   "metadata": {},
   "source": [
    "Here, we first grouped the data by `origin`, and then calculated the\n",
    "summary statistics.\n",
    "\n",
    "3.  Calculate the median and interquartile range for `arr_delay`s of\n",
    "    flights in the `sfo_feb_flights` data frame, grouped by carrier.\n",
    "    Which carrier has the highest IQR of arrival delays?\n",
    "\n",
    "    <ol>\n",
    "\n",
    "    <li>American Airlines</li>\n",
    "\n",
    "    <li>JetBlue Airways</li>\n",
    "\n",
    "    <li>Virgin America</li>\n",
    "\n",
    "    <li style=\"color: green;\">Delta and United Airlines</li>\n",
    "\n",
    "    <li>Frontier Airlines</li>\n",
    "\n",
    "    </ol>"
   ]
  },
  {
   "cell_type": "code",
   "execution_count": 19,
   "metadata": {
    "vscode": {
     "languageId": "r"
    }
   },
   "outputs": [
    {
     "data": {
      "text/html": [
       "<table class=\"dataframe\">\n",
       "<caption>A tibble: 5 × 4</caption>\n",
       "<thead>\n",
       "\t<tr><th scope=col>carrier</th><th scope=col>median</th><th scope=col>IQR</th><th scope=col>n</th></tr>\n",
       "\t<tr><th scope=col>&lt;chr&gt;</th><th scope=col>&lt;dbl&gt;</th><th scope=col>&lt;dbl&gt;</th><th scope=col>&lt;int&gt;</th></tr>\n",
       "</thead>\n",
       "<tbody>\n",
       "\t<tr><td>AA</td><td>  5.0</td><td>17.50</td><td>10</td></tr>\n",
       "\t<tr><td>B6</td><td>-10.5</td><td>12.25</td><td> 6</td></tr>\n",
       "\t<tr><td>DL</td><td>-15.0</td><td>22.00</td><td>19</td></tr>\n",
       "\t<tr><td>UA</td><td>-10.0</td><td>22.00</td><td>21</td></tr>\n",
       "\t<tr><td>VX</td><td>-22.5</td><td>21.25</td><td>12</td></tr>\n",
       "</tbody>\n",
       "</table>\n"
      ],
      "text/latex": [
       "A tibble: 5 × 4\n",
       "\\begin{tabular}{llll}\n",
       " carrier & median & IQR & n\\\\\n",
       " <chr> & <dbl> & <dbl> & <int>\\\\\n",
       "\\hline\n",
       "\t AA &   5.0 & 17.50 & 10\\\\\n",
       "\t B6 & -10.5 & 12.25 &  6\\\\\n",
       "\t DL & -15.0 & 22.00 & 19\\\\\n",
       "\t UA & -10.0 & 22.00 & 21\\\\\n",
       "\t VX & -22.5 & 21.25 & 12\\\\\n",
       "\\end{tabular}\n"
      ],
      "text/markdown": [
       "\n",
       "A tibble: 5 × 4\n",
       "\n",
       "| carrier &lt;chr&gt; | median &lt;dbl&gt; | IQR &lt;dbl&gt; | n &lt;int&gt; |\n",
       "|---|---|---|---|\n",
       "| AA |   5.0 | 17.50 | 10 |\n",
       "| B6 | -10.5 | 12.25 |  6 |\n",
       "| DL | -15.0 | 22.00 | 19 |\n",
       "| UA | -10.0 | 22.00 | 21 |\n",
       "| VX | -22.5 | 21.25 | 12 |\n",
       "\n"
      ],
      "text/plain": [
       "  carrier median IQR   n \n",
       "1 AA        5.0  17.50 10\n",
       "2 B6      -10.5  12.25  6\n",
       "3 DL      -15.0  22.00 19\n",
       "4 UA      -10.0  22.00 21\n",
       "5 VX      -22.5  21.25 12"
      ]
     },
     "metadata": {},
     "output_type": "display_data"
    }
   ],
   "source": [
    "sfo_feb_flights %>%\n",
    "  group_by(carrier) %>%\n",
    "  summarise(median = median(arr_delay), IQR = IQR(arr_delay), n = n())"
   ]
  },
  {
   "cell_type": "markdown",
   "metadata": {},
   "source": [
    "### Departure delays over months\n",
    "\n",
    "Which month would you expect to have the highest average delay departing\n",
    "from an NYC airport?\n",
    "\n",
    "Let's think about how we would answer this question:\n",
    "\n",
    "-   First, calculate monthly averages for departure delays. With the new\n",
    "    language we are learning, we need to `group_by` months, then\n",
    "    `summarise` mean departure delays.\n",
    "-   Then, we need to `arrange` these average delays in `desc`ending\n",
    "    order\n"
   ]
  },
  {
   "cell_type": "code",
   "execution_count": 21,
   "metadata": {
    "vscode": {
     "languageId": "r"
    }
   },
   "outputs": [
    {
     "data": {
      "text/html": [
       "<table class=\"dataframe\">\n",
       "<caption>A tibble: 12 × 3</caption>\n",
       "<thead>\n",
       "\t<tr><th scope=col>month</th><th scope=col>mean_dd</th><th scope=col>median_dd</th></tr>\n",
       "\t<tr><th scope=col>&lt;int&gt;</th><th scope=col>&lt;dbl&gt;</th><th scope=col>&lt;dbl&gt;</th></tr>\n",
       "</thead>\n",
       "<tbody>\n",
       "\t<tr><td> 7</td><td>20.754559</td><td> 0</td></tr>\n",
       "\t<tr><td> 6</td><td>20.350293</td><td> 0</td></tr>\n",
       "\t<tr><td>12</td><td>17.368189</td><td> 1</td></tr>\n",
       "\t<tr><td> 4</td><td>14.554477</td><td>-2</td></tr>\n",
       "\t<tr><td> 3</td><td>13.517602</td><td>-1</td></tr>\n",
       "\t<tr><td> 5</td><td>13.264800</td><td>-1</td></tr>\n",
       "\t<tr><td> 8</td><td>12.619097</td><td>-1</td></tr>\n",
       "\t<tr><td> 2</td><td>10.687227</td><td>-2</td></tr>\n",
       "\t<tr><td> 1</td><td>10.233333</td><td>-2</td></tr>\n",
       "\t<tr><td> 9</td><td> 6.872436</td><td>-3</td></tr>\n",
       "\t<tr><td>11</td><td> 6.103183</td><td>-2</td></tr>\n",
       "\t<tr><td>10</td><td> 5.880374</td><td>-3</td></tr>\n",
       "</tbody>\n",
       "</table>\n"
      ],
      "text/latex": [
       "A tibble: 12 × 3\n",
       "\\begin{tabular}{lll}\n",
       " month & mean\\_dd & median\\_dd\\\\\n",
       " <int> & <dbl> & <dbl>\\\\\n",
       "\\hline\n",
       "\t  7 & 20.754559 &  0\\\\\n",
       "\t  6 & 20.350293 &  0\\\\\n",
       "\t 12 & 17.368189 &  1\\\\\n",
       "\t  4 & 14.554477 & -2\\\\\n",
       "\t  3 & 13.517602 & -1\\\\\n",
       "\t  5 & 13.264800 & -1\\\\\n",
       "\t  8 & 12.619097 & -1\\\\\n",
       "\t  2 & 10.687227 & -2\\\\\n",
       "\t  1 & 10.233333 & -2\\\\\n",
       "\t  9 &  6.872436 & -3\\\\\n",
       "\t 11 &  6.103183 & -2\\\\\n",
       "\t 10 &  5.880374 & -3\\\\\n",
       "\\end{tabular}\n"
      ],
      "text/markdown": [
       "\n",
       "A tibble: 12 × 3\n",
       "\n",
       "| month &lt;int&gt; | mean_dd &lt;dbl&gt; | median_dd &lt;dbl&gt; |\n",
       "|---|---|---|\n",
       "|  7 | 20.754559 |  0 |\n",
       "|  6 | 20.350293 |  0 |\n",
       "| 12 | 17.368189 |  1 |\n",
       "|  4 | 14.554477 | -2 |\n",
       "|  3 | 13.517602 | -1 |\n",
       "|  5 | 13.264800 | -1 |\n",
       "|  8 | 12.619097 | -1 |\n",
       "|  2 | 10.687227 | -2 |\n",
       "|  1 | 10.233333 | -2 |\n",
       "|  9 |  6.872436 | -3 |\n",
       "| 11 |  6.103183 | -2 |\n",
       "| 10 |  5.880374 | -3 |\n",
       "\n"
      ],
      "text/plain": [
       "   month mean_dd   median_dd\n",
       "1   7    20.754559  0       \n",
       "2   6    20.350293  0       \n",
       "3  12    17.368189  1       \n",
       "4   4    14.554477 -2       \n",
       "5   3    13.517602 -1       \n",
       "6   5    13.264800 -1       \n",
       "7   8    12.619097 -1       \n",
       "8   2    10.687227 -2       \n",
       "9   1    10.233333 -2       \n",
       "10  9     6.872436 -3       \n",
       "11 11     6.103183 -2       \n",
       "12 10     5.880374 -3       "
      ]
     },
     "metadata": {},
     "output_type": "display_data"
    }
   ],
   "source": [
    "nycflights %>%\n",
    "  group_by(month) %>%\n",
    "  summarise(mean_dd = mean(dep_delay), median_dd = median(dep_delay)) %>%\n",
    "  arrange(desc(mean_dd))"
   ]
  },
  {
   "cell_type": "markdown",
   "metadata": {},
   "source": [
    "4.  Which month has the highest average departure delay from an NYC\n",
    "    airport?\n",
    "\n",
    "    <ol>\n",
    "\n",
    "    <li>January</li>\n",
    "\n",
    "    <li>March</li>\n",
    "\n",
    "    <li style=\"color: green;\">July</li>\n",
    "\n",
    "    <li>October</li>\n",
    "\n",
    "    <li>December</li>\n",
    "\n",
    "    </ol>\n",
    "\n",
    "5.  Which month has the highest median departure delay from an NYC\n",
    "    airport?\n",
    "\n",
    "    <ol>\n",
    "\n",
    "    <li>January</li>\n",
    "\n",
    "    <li>March</li>\n",
    "\n",
    "    <li>July</li>\n",
    "\n",
    "    <li>October</li>\n",
    "\n",
    "    <li style=\"color: green;\">December</li>\n",
    "\n",
    "    </ol>"
   ]
  },
  {
   "cell_type": "markdown",
   "metadata": {},
   "source": [
    "6.  Is the mean or the median a more reliable measure for deciding which\n",
    "    month(s) to avoid flying if you really dislike delayed flights, and\n",
    "    why?\n",
    "\n",
    "    <ol>\n",
    "\n",
    "    <li>Mean would be more reliable as it gives us the true\n",
    "    average.</li>\n",
    "\n",
    "    <li>Mean would be more reliable as the distribution of delays is\n",
    "    symmetric.</li>\n",
    "\n",
    "    <li style=\"color: green;\">Median would be more reliable as the distribution of delays is\n",
    "    skewed.</li>\n",
    "\n",
    "    <li>Median would be more reliable as the distribution of delays is\n",
    "    symmetric.</li>\n",
    "\n",
    "    <li>Both give us useful information.</li>\n",
    "\n",
    "    </ol>\n",
    "\n",
    "We can also visualize the distributions of departure delays across\n",
    "months using side-by-side box plots:"
   ]
  },
  {
   "cell_type": "code",
   "execution_count": 22,
   "metadata": {
    "vscode": {
     "languageId": "r"
    }
   },
   "outputs": [
    {
     "data": {
      "image/png": "[encoded data removed]",
      "text/plain": [
       "plot without title"
      ]
     },
     "metadata": {
      "image/png": {
       "height": 420,
       "width": 420
      }
     },
     "output_type": "display_data"
    }
   ],
   "source": [
    "ggplot(nycflights, aes(x = factor(month), y = dep_delay)) +\n",
    "    geom_boxplot()"
   ]
  },
  {
   "cell_type": "markdown",
   "metadata": {},
   "source": [
    "There is some new syntax here: We want departure delays on the y-axis\n",
    "and the months on the x-axis to produce side-by-side box plots.\n",
    "Side-by-side box plots require a categorical variable on the x-axis,\n",
    "however in the data frame `month` is stored as a numerical variable\n",
    "(numbers 1 - 12). Therefore we can force R to treat this variable as\n",
    "categorical, what R calls a **factor**, variable with `factor(month)`.\n",
    "\n",
    "### On time departure rate for NYC airports\n",
    "\n",
    "Suppose you will be flying out of NYC and want to know which of the\n",
    "three major NYC airports has the best on time departure rate of\n",
    "departing flights. Suppose also that for you a flight that is delayed\n",
    "for less than 5 minutes is basically \"on time\". You consider any flight\n",
    "delayed for 5 minutes of more to be \"delayed\".\n",
    "\n",
    "In order to determine which airport has the best on time departure rate,\n",
    "we need to - first classify each flight as \"on time\" or \"delayed\", -\n",
    "then group flights by origin airport, - then calculate on time departure\n",
    "rates for each origin airport, - and finally arrange the airports in\n",
    "descending order for on time departure percentage.\n",
    "\n",
    "Let's start with classifying each flight as \"on time\" or \"delayed\" by\n",
    "creating a new variable with the `mutate` function."
   ]
  },
  {
   "cell_type": "code",
   "execution_count": 24,
   "metadata": {
    "vscode": {
     "languageId": "r"
    }
   },
   "outputs": [
    {
     "data": {
      "text/html": [
       "<table class=\"dataframe\">\n",
       "<caption>A tibble: 5 × 17</caption>\n",
       "<thead>\n",
       "\t<tr><th scope=col>year</th><th scope=col>month</th><th scope=col>day</th><th scope=col>dep_time</th><th scope=col>dep_delay</th><th scope=col>arr_time</th><th scope=col>arr_delay</th><th scope=col>carrier</th><th scope=col>tailnum</th><th scope=col>flight</th><th scope=col>origin</th><th scope=col>dest</th><th scope=col>air_time</th><th scope=col>distance</th><th scope=col>hour</th><th scope=col>minute</th><th scope=col>dep_type</th></tr>\n",
       "\t<tr><th scope=col>&lt;int&gt;</th><th scope=col>&lt;int&gt;</th><th scope=col>&lt;int&gt;</th><th scope=col>&lt;int&gt;</th><th scope=col>&lt;dbl&gt;</th><th scope=col>&lt;int&gt;</th><th scope=col>&lt;dbl&gt;</th><th scope=col>&lt;chr&gt;</th><th scope=col>&lt;chr&gt;</th><th scope=col>&lt;int&gt;</th><th scope=col>&lt;chr&gt;</th><th scope=col>&lt;chr&gt;</th><th scope=col>&lt;dbl&gt;</th><th scope=col>&lt;dbl&gt;</th><th scope=col>&lt;dbl&gt;</th><th scope=col>&lt;dbl&gt;</th><th scope=col>&lt;chr&gt;</th></tr>\n",
       "</thead>\n",
       "<tbody>\n",
       "\t<tr><td>2013</td><td> 6</td><td>30</td><td> 940</td><td>15</td><td>1216</td><td> -4</td><td>VX</td><td>N626VA</td><td> 407</td><td>JFK</td><td>LAX</td><td>313</td><td>2475</td><td> 9</td><td>40</td><td>delayed</td></tr>\n",
       "\t<tr><td>2013</td><td> 5</td><td> 7</td><td>1657</td><td>-3</td><td>2104</td><td> 10</td><td>DL</td><td>N3760C</td><td> 329</td><td>JFK</td><td>SJU</td><td>216</td><td>1598</td><td>16</td><td>57</td><td>on time</td></tr>\n",
       "\t<tr><td>2013</td><td>12</td><td> 8</td><td> 859</td><td>-1</td><td>1238</td><td> 11</td><td>DL</td><td>N712TW</td><td> 422</td><td>JFK</td><td>LAX</td><td>376</td><td>2475</td><td> 8</td><td>59</td><td>on time</td></tr>\n",
       "\t<tr><td>2013</td><td> 5</td><td>14</td><td>1841</td><td>-4</td><td>2122</td><td>-34</td><td>DL</td><td>N914DL</td><td>2391</td><td>JFK</td><td>TPA</td><td>135</td><td>1005</td><td>18</td><td>41</td><td>on time</td></tr>\n",
       "\t<tr><td>2013</td><td> 7</td><td>21</td><td>1102</td><td>-3</td><td>1230</td><td> -8</td><td>9E</td><td>N823AY</td><td>3652</td><td>LGA</td><td>ORF</td><td> 50</td><td> 296</td><td>11</td><td> 2</td><td>on time</td></tr>\n",
       "</tbody>\n",
       "</table>\n"
      ],
      "text/latex": [
       "A tibble: 5 × 17\n",
       "\\begin{tabular}{lllllllllllllllll}\n",
       " year & month & day & dep\\_time & dep\\_delay & arr\\_time & arr\\_delay & carrier & tailnum & flight & origin & dest & air\\_time & distance & hour & minute & dep\\_type\\\\\n",
       " <int> & <int> & <int> & <int> & <dbl> & <int> & <dbl> & <chr> & <chr> & <int> & <chr> & <chr> & <dbl> & <dbl> & <dbl> & <dbl> & <chr>\\\\\n",
       "\\hline\n",
       "\t 2013 &  6 & 30 &  940 & 15 & 1216 &  -4 & VX & N626VA &  407 & JFK & LAX & 313 & 2475 &  9 & 40 & delayed\\\\\n",
       "\t 2013 &  5 &  7 & 1657 & -3 & 2104 &  10 & DL & N3760C &  329 & JFK & SJU & 216 & 1598 & 16 & 57 & on time\\\\\n",
       "\t 2013 & 12 &  8 &  859 & -1 & 1238 &  11 & DL & N712TW &  422 & JFK & LAX & 376 & 2475 &  8 & 59 & on time\\\\\n",
       "\t 2013 &  5 & 14 & 1841 & -4 & 2122 & -34 & DL & N914DL & 2391 & JFK & TPA & 135 & 1005 & 18 & 41 & on time\\\\\n",
       "\t 2013 &  7 & 21 & 1102 & -3 & 1230 &  -8 & 9E & N823AY & 3652 & LGA & ORF &  50 &  296 & 11 &  2 & on time\\\\\n",
       "\\end{tabular}\n"
      ],
      "text/markdown": [
       "\n",
       "A tibble: 5 × 17\n",
       "\n",
       "| year &lt;int&gt; | month &lt;int&gt; | day &lt;int&gt; | dep_time &lt;int&gt; | dep_delay &lt;dbl&gt; | arr_time &lt;int&gt; | arr_delay &lt;dbl&gt; | carrier &lt;chr&gt; | tailnum &lt;chr&gt; | flight &lt;int&gt; | origin &lt;chr&gt; | dest &lt;chr&gt; | air_time &lt;dbl&gt; | distance &lt;dbl&gt; | hour &lt;dbl&gt; | minute &lt;dbl&gt; | dep_type &lt;chr&gt; |\n",
       "|---|---|---|---|---|---|---|---|---|---|---|---|---|---|---|---|---|\n",
       "| 2013 |  6 | 30 |  940 | 15 | 1216 |  -4 | VX | N626VA |  407 | JFK | LAX | 313 | 2475 |  9 | 40 | delayed |\n",
       "| 2013 |  5 |  7 | 1657 | -3 | 2104 |  10 | DL | N3760C |  329 | JFK | SJU | 216 | 1598 | 16 | 57 | on time |\n",
       "| 2013 | 12 |  8 |  859 | -1 | 1238 |  11 | DL | N712TW |  422 | JFK | LAX | 376 | 2475 |  8 | 59 | on time |\n",
       "| 2013 |  5 | 14 | 1841 | -4 | 2122 | -34 | DL | N914DL | 2391 | JFK | TPA | 135 | 1005 | 18 | 41 | on time |\n",
       "| 2013 |  7 | 21 | 1102 | -3 | 1230 |  -8 | 9E | N823AY | 3652 | LGA | ORF |  50 |  296 | 11 |  2 | on time |\n",
       "\n"
      ],
      "text/plain": [
       "  year month day dep_time dep_delay arr_time arr_delay carrier tailnum flight\n",
       "1 2013  6    30   940     15        1216      -4       VX      N626VA   407  \n",
       "2 2013  5     7  1657     -3        2104      10       DL      N3760C   329  \n",
       "3 2013 12     8   859     -1        1238      11       DL      N712TW   422  \n",
       "4 2013  5    14  1841     -4        2122     -34       DL      N914DL  2391  \n",
       "5 2013  7    21  1102     -3        1230      -8       9E      N823AY  3652  \n",
       "  origin dest air_time distance hour minute dep_type\n",
       "1 JFK    LAX  313      2475      9   40     delayed \n",
       "2 JFK    SJU  216      1598     16   57     on time \n",
       "3 JFK    LAX  376      2475      8   59     on time \n",
       "4 JFK    TPA  135      1005     18   41     on time \n",
       "5 LGA    ORF   50       296     11    2     on time "
      ]
     },
     "metadata": {},
     "output_type": "display_data"
    }
   ],
   "source": [
    "nycflights <- nycflights %>%\n",
    "  mutate(dep_type = ifelse(dep_delay < 5, \"on time\", \"delayed\"))\n",
    "head(nycflights, 5)"
   ]
  },
  {
   "cell_type": "markdown",
   "metadata": {},
   "source": [
    "The first argument in the `mutate` function is the name of the new\n",
    "variable we want to create, in this case `dep_type`. Then if\n",
    "`dep_delay < 5` we classify the flight as `\"on time\"` and `\"delayed\"` if\n",
    "not, i.e. if the flight is delayed for 5 or more minutes.\n",
    "\n",
    "Note that we are also overwriting the `nycflights` data frame with the\n",
    "new version of this data frame that includes the new `dep_type`\n",
    "variable.\n",
    "\n",
    "We can handle all the remaining steps in one code chunk:"
   ]
  },
  {
   "cell_type": "code",
   "execution_count": 25,
   "metadata": {
    "vscode": {
     "languageId": "r"
    }
   },
   "outputs": [
    {
     "data": {
      "text/html": [
       "<table class=\"dataframe\">\n",
       "<caption>A tibble: 3 × 2</caption>\n",
       "<thead>\n",
       "\t<tr><th scope=col>origin</th><th scope=col>ot_dep_rate</th></tr>\n",
       "\t<tr><th scope=col>&lt;chr&gt;</th><th scope=col>&lt;dbl&gt;</th></tr>\n",
       "</thead>\n",
       "<tbody>\n",
       "\t<tr><td>EWR</td><td>0.6369892</td></tr>\n",
       "\t<tr><td>JFK</td><td>0.6935854</td></tr>\n",
       "\t<tr><td>LGA</td><td>0.7279229</td></tr>\n",
       "</tbody>\n",
       "</table>\n"
      ],
      "text/latex": [
       "A tibble: 3 × 2\n",
       "\\begin{tabular}{ll}\n",
       " origin & ot\\_dep\\_rate\\\\\n",
       " <chr> & <dbl>\\\\\n",
       "\\hline\n",
       "\t EWR & 0.6369892\\\\\n",
       "\t JFK & 0.6935854\\\\\n",
       "\t LGA & 0.7279229\\\\\n",
       "\\end{tabular}\n"
      ],
      "text/markdown": [
       "\n",
       "A tibble: 3 × 2\n",
       "\n",
       "| origin &lt;chr&gt; | ot_dep_rate &lt;dbl&gt; |\n",
       "|---|---|\n",
       "| EWR | 0.6369892 |\n",
       "| JFK | 0.6935854 |\n",
       "| LGA | 0.7279229 |\n",
       "\n"
      ],
      "text/plain": [
       "  origin ot_dep_rate\n",
       "1 EWR    0.6369892  \n",
       "2 JFK    0.6935854  \n",
       "3 LGA    0.7279229  "
      ]
     },
     "metadata": {},
     "output_type": "display_data"
    }
   ],
   "source": [
    "nycflights %>%\n",
    "  group_by(origin) %>%\n",
    "  summarise(ot_dep_rate = sum(dep_type == \"on time\") / n()) "
   ]
  },
  {
   "cell_type": "markdown",
   "metadata": {},
   "source": [
    "**The summarise step is telling R to count up how many records of the\n",
    "currently found group are on time - `sum(dep_type == \"on_time\")` - and\n",
    "divide that result by the total number of elements in the currently\n",
    "found group - n() - to get a proportion, then to store the answer in a\n",
    "new variable called `ot_dep_rate`.**\n",
    "\n",
    "7.  If you were selecting an airport simply based on on time departure\n",
    "    percentage, which NYC airport would you choose to fly out of?\n",
    "\n",
    "    <ol>\n",
    "\n",
    "    <li>EWR</li>\n",
    "\n",
    "    <li>JFK</li>\n",
    "\n",
    "    <li style=\"color: green;\">LGA</li>\n",
    "\n",
    "    </ol>\n",
    "\n",
    "We can also visualize the distribution of on on time departure rate\n",
    "across the three airports using a segmented bar plot."
   ]
  },
  {
   "cell_type": "code",
   "execution_count": 26,
   "metadata": {
    "vscode": {
     "languageId": "r"
    }
   },
   "outputs": [
    {
     "data": {
      "image/png": "[encoded data removed]",
      "text/plain": [
       "plot without title"
      ]
     },
     "metadata": {
      "image/png": {
       "height": 420,
       "width": 420
      }
     },
     "output_type": "display_data"
    }
   ],
   "source": [
    "ggplot(data = nycflights, aes(x = origin, fill = dep_type)) +\n",
    "  geom_bar()"
   ]
  },
  {
   "cell_type": "markdown",
   "metadata": {},
   "source": [
    "8.  Mutate the data frame so that it includes a new variable that\n",
    "    contains the average speed, `avg_speed` traveled by the plane for\n",
    "    each flight (in mph). What is the tail number of the plane with the\n",
    "    fastest `avg_speed`? **Hint:** Average speed can be calculated as\n",
    "    distance divided by number of hours of travel, and note that\n",
    "    `air_time` is given in minutes. If you just want to show the\n",
    "    `avg_speed` and `tailnum` and none of the other variables, use the\n",
    "    select function at the end of your pipe to select just these two\n",
    "    variables with `select(avg_speed, tailnum)`. You can Google this\n",
    "    tail number to find out more about the aircraft.\n",
    "\n",
    "    <ol>\n",
    "\n",
    "    <li style=\"color: green;\">N666DN</li>\n",
    "\n",
    "    <li>N755US</li>\n",
    "\n",
    "    <li>N779JB</li>\n",
    "\n",
    "    <li>N947UW</li>\n",
    "\n",
    "    <li>N959UW</li>\n",
    "\n",
    "    </ol>"
   ]
  },
  {
   "cell_type": "code",
   "execution_count": 27,
   "metadata": {
    "vscode": {
     "languageId": "r"
    }
   },
   "outputs": [
    {
     "data": {
      "text/html": [
       "<table class=\"dataframe\">\n",
       "<caption>A tibble: 5 × 2</caption>\n",
       "<thead>\n",
       "\t<tr><th scope=col>avg_speed</th><th scope=col>tailnum</th></tr>\n",
       "\t<tr><th scope=col>&lt;dbl&gt;</th><th scope=col>&lt;chr&gt;</th></tr>\n",
       "</thead>\n",
       "<tbody>\n",
       "\t<tr><td>703.3846</td><td>N666DN</td></tr>\n",
       "\t<tr><td>557.4419</td><td>N779JB</td></tr>\n",
       "\t<tr><td>554.2197</td><td>N571JB</td></tr>\n",
       "\t<tr><td>547.8857</td><td>N568JB</td></tr>\n",
       "\t<tr><td>547.8857</td><td>N5EHAA</td></tr>\n",
       "</tbody>\n",
       "</table>\n"
      ],
      "text/latex": [
       "A tibble: 5 × 2\n",
       "\\begin{tabular}{ll}\n",
       " avg\\_speed & tailnum\\\\\n",
       " <dbl> & <chr>\\\\\n",
       "\\hline\n",
       "\t 703.3846 & N666DN\\\\\n",
       "\t 557.4419 & N779JB\\\\\n",
       "\t 554.2197 & N571JB\\\\\n",
       "\t 547.8857 & N568JB\\\\\n",
       "\t 547.8857 & N5EHAA\\\\\n",
       "\\end{tabular}\n"
      ],
      "text/markdown": [
       "\n",
       "A tibble: 5 × 2\n",
       "\n",
       "| avg_speed &lt;dbl&gt; | tailnum &lt;chr&gt; |\n",
       "|---|---|\n",
       "| 703.3846 | N666DN |\n",
       "| 557.4419 | N779JB |\n",
       "| 554.2197 | N571JB |\n",
       "| 547.8857 | N568JB |\n",
       "| 547.8857 | N5EHAA |\n",
       "\n"
      ],
      "text/plain": [
       "  avg_speed tailnum\n",
       "1 703.3846  N666DN \n",
       "2 557.4419  N779JB \n",
       "3 554.2197  N571JB \n",
       "4 547.8857  N568JB \n",
       "5 547.8857  N5EHAA "
      ]
     },
     "metadata": {},
     "output_type": "display_data"
    }
   ],
   "source": [
    "nycflights <- nycflights %>%\n",
    "  mutate(avg_speed = distance / air_time * 60)\n",
    "nycflights %>%\n",
    "select(avg_speed, tailnum)%>%\n",
    "  arrange(desc(avg_speed))%>%\n",
    "  head(5)  "
   ]
  },
  {
   "cell_type": "markdown",
   "metadata": {},
   "source": [
    "9.  Make a scatterplot of `avg_speed` vs. `distance`. Which of the\n",
    "    following is true about the relationship between average speed and\n",
    "    distance.\n",
    "\n",
    "    <ol>\n",
    "\n",
    "    <li>As distance increases the average speed of flights\n",
    "    decreases.</li>\n",
    "\n",
    "    <li>The relationship is linear.</li>\n",
    "\n",
    "    <li style=\"color: green;\">There is an overall postive association between distance and average\n",
    "    speed.</li>\n",
    "\n",
    "    <li>There are no outliers.</li>\n",
    "\n",
    "    <li>The distribution of distances are uniform over 0 to 5000\n",
    "    miles.</li>\n",
    "\n",
    "    </ol>"
   ]
  },
  {
   "cell_type": "code",
   "execution_count": 28,
   "metadata": {
    "vscode": {
     "languageId": "r"
    }
   },
   "outputs": [
    {
     "data": {
      "image/png": "[encoded data removed]",
      "text/plain": [
       "plot without title"
      ]
     },
     "metadata": {
      "image/png": {
       "height": 420,
       "width": 420
      }
     },
     "output_type": "display_data"
    }
   ],
   "source": [
    "ggplot(nycflights, aes(x = distance, y = avg_speed)) +\n",
    "  geom_point() +  # Add points\n",
    "  labs(x = \"Distance\", y = \"Average Speed\", title = \"Scatter plot of Average Speed vs Distance\") +\n",
    "  theme_minimal()"
   ]
  },
  {
   "cell_type": "markdown",
   "metadata": {},
   "source": [
    "10. Suppose you define a flight to be \"on time\" if it gets to the\n",
    "    destination on time or earlier than expected, regardless of any\n",
    "    departure delays. Mutate the data frame to create a new variable\n",
    "    called `arr_type` with levels `\"on time\"` and `\"delayed\"` based on\n",
    "    this definition. Then, determine the on time arrival percentage\n",
    "    based on whether the flight departed on time or not. What proportion\n",
    "    of flights that were `\"delayed\"` departing arrive `\"on time\"`?\n",
    "    [NUMERIC INPUT]"
   ]
  },
  {
   "cell_type": "code",
   "execution_count": 29,
   "metadata": {
    "vscode": {
     "languageId": "r"
    }
   },
   "outputs": [],
   "source": [
    "nycflights <- nycflights %>%\n",
    "  mutate(arr_type = ifelse(arr_delay <= 0, \"on time\", \"delayed\")) "
   ]
  },
  {
   "cell_type": "code",
   "execution_count": 30,
   "metadata": {
    "vscode": {
     "languageId": "r"
    }
   },
   "outputs": [
    {
     "data": {
      "text/html": [
       "<table class=\"dataframe\">\n",
       "<caption>A tibble: 2 × 2</caption>\n",
       "<thead>\n",
       "\t<tr><th scope=col>dep_type</th><th scope=col>ot_arr_rate</th></tr>\n",
       "\t<tr><th scope=col>&lt;chr&gt;</th><th scope=col>&lt;dbl&gt;</th></tr>\n",
       "</thead>\n",
       "<tbody>\n",
       "\t<tr><td>delayed</td><td>0.1833639</td></tr>\n",
       "\t<tr><td>on time</td><td>0.7762241</td></tr>\n",
       "</tbody>\n",
       "</table>\n"
      ],
      "text/latex": [
       "A tibble: 2 × 2\n",
       "\\begin{tabular}{ll}\n",
       " dep\\_type & ot\\_arr\\_rate\\\\\n",
       " <chr> & <dbl>\\\\\n",
       "\\hline\n",
       "\t delayed & 0.1833639\\\\\n",
       "\t on time & 0.7762241\\\\\n",
       "\\end{tabular}\n"
      ],
      "text/markdown": [
       "\n",
       "A tibble: 2 × 2\n",
       "\n",
       "| dep_type &lt;chr&gt; | ot_arr_rate &lt;dbl&gt; |\n",
       "|---|---|\n",
       "| delayed | 0.1833639 |\n",
       "| on time | 0.7762241 |\n",
       "\n"
      ],
      "text/plain": [
       "  dep_type ot_arr_rate\n",
       "1 delayed  0.1833639  \n",
       "2 on time  0.7762241  "
      ]
     },
     "metadata": {},
     "output_type": "display_data"
    }
   ],
   "source": [
    "nycflights %>% group_by(dep_type)%>%\n",
    " summarise(ot_arr_rate=sum(arr_type==\"on time\")/n())"
   ]
  }
 ],
 "metadata": {
  "kernelspec": {
   "display_name": "R",
   "language": "R",
   "name": "ir"
  },
  "language_info": {
   "codemirror_mode": "r",
   "file_extension": ".r",
   "mimetype": "text/x-r-source",
   "name": "R",
   "pygments_lexer": "r",
   "version": "4.1.2"
  }
 },
 "nbformat": 4,
 "nbformat_minor": 2
}
